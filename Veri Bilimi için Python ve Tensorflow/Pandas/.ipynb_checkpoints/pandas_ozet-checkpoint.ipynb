{
 "cells": [
  {
   "cell_type": "code",
   "execution_count": 1,
   "id": "71607e0a",
   "metadata": {},
   "outputs": [],
   "source": [
    "import numpy as np\n",
    "import pandas as pd"
   ]
  },
  {
   "cell_type": "markdown",
   "id": "2b2d9dba",
   "metadata": {},
   "source": [
    "## Series / Seriler"
   ]
  },
  {
   "cell_type": "code",
   "execution_count": 8,
   "id": "8977f251",
   "metadata": {},
   "outputs": [],
   "source": [
    "dictionary = {\"Anıl\": 50, \"Cemal\": 30, \"Yaşar\": 20}"
   ]
  },
  {
   "cell_type": "code",
   "execution_count": 10,
   "id": "da92ff64",
   "metadata": {},
   "outputs": [
    {
     "data": {
      "text/plain": [
       "pandas.core.series.Series"
      ]
     },
     "execution_count": 10,
     "metadata": {},
     "output_type": "execute_result"
    }
   ],
   "source": [
    "data = pd.Series(dictionary)\n",
    "type(data)"
   ]
  },
  {
   "cell_type": "code",
   "execution_count": 11,
   "id": "6b6b3635",
   "metadata": {},
   "outputs": [
    {
     "data": {
      "text/plain": [
       "Anıl     50\n",
       "Cemal    30\n",
       "Yaşar    20\n",
       "dtype: int64"
      ]
     },
     "execution_count": 11,
     "metadata": {},
     "output_type": "execute_result"
    }
   ],
   "source": [
    "data"
   ]
  },
  {
   "cell_type": "code",
   "execution_count": 12,
   "id": "00265a33",
   "metadata": {},
   "outputs": [],
   "source": [
    "myNames = \"Anıl Cemal Yaşar\".split()\n",
    "myAges = [50,30,20]"
   ]
  },
  {
   "cell_type": "code",
   "execution_count": 16,
   "id": "293f13cc",
   "metadata": {},
   "outputs": [
    {
     "data": {
      "text/plain": [
       "Anıl     50\n",
       "Cemal    30\n",
       "Yaşar    20\n",
       "dtype: int64"
      ]
     },
     "execution_count": 16,
     "metadata": {},
     "output_type": "execute_result"
    }
   ],
   "source": [
    "newData = pd.Series(data=myAges, index=myNames)\n",
    "newData"
   ]
  },
  {
   "cell_type": "code",
   "execution_count": 28,
   "id": "c450bd9e",
   "metadata": {},
   "outputs": [
    {
     "data": {
      "text/plain": [
       "Anıl     10\n",
       "Atlas     5\n",
       "Osman     1\n",
       "dtype: int64"
      ]
     },
     "execution_count": 28,
     "metadata": {},
     "output_type": "execute_result"
    }
   ],
   "source": [
    "results1 = pd.Series(index=[\"Anıl\", \"Atlas\", \"Osman\"], data=[10,5,1])\n",
    "results1"
   ]
  },
  {
   "cell_type": "code",
   "execution_count": 29,
   "id": "4e201026",
   "metadata": {},
   "outputs": [
    {
     "data": {
      "text/plain": [
       "Anıl     20\n",
       "Atlas    10\n",
       "Osman     8\n",
       "dtype: int64"
      ]
     },
     "execution_count": 29,
     "metadata": {},
     "output_type": "execute_result"
    }
   ],
   "source": [
    "results2 = pd.Series(data=[20,10,8], index=\"Anıl Atlas Osman\".split())\n",
    "results2"
   ]
  },
  {
   "cell_type": "code",
   "execution_count": 30,
   "id": "1525c55f",
   "metadata": {},
   "outputs": [
    {
     "data": {
      "text/plain": [
       "8"
      ]
     },
     "execution_count": 30,
     "metadata": {},
     "output_type": "execute_result"
    }
   ],
   "source": [
    "results2[\"Osman\"]"
   ]
  },
  {
   "cell_type": "code",
   "execution_count": 32,
   "id": "0927d6c9",
   "metadata": {},
   "outputs": [
    {
     "data": {
      "text/plain": [
       "Anıl     30\n",
       "Atlas    15\n",
       "Osman     9\n",
       "dtype: int64"
      ]
     },
     "execution_count": 32,
     "metadata": {},
     "output_type": "execute_result"
    }
   ],
   "source": [
    "# tüm index ler eşleştiği için toplarken sorun olmadı\n",
    "endResult = results1 + results2\n",
    "endResult"
   ]
  },
  {
   "cell_type": "code",
   "execution_count": 35,
   "id": "099aeee4",
   "metadata": {},
   "outputs": [],
   "source": [
    "diffSeries1 = pd.Series(data=[10,5,3,1], index=\"a b c d\".split())\n",
    "diffSeries2 = pd.Series(data=[20,12,8,14], index=\"a e c f\".split())"
   ]
  },
  {
   "cell_type": "code",
   "execution_count": 36,
   "id": "40373e26",
   "metadata": {},
   "outputs": [
    {
     "data": {
      "text/plain": [
       "a    10\n",
       "b     5\n",
       "c     3\n",
       "d     1\n",
       "dtype: int64"
      ]
     },
     "execution_count": 36,
     "metadata": {},
     "output_type": "execute_result"
    }
   ],
   "source": [
    "diffSeries1"
   ]
  },
  {
   "cell_type": "code",
   "execution_count": 37,
   "id": "43a6f443",
   "metadata": {},
   "outputs": [
    {
     "data": {
      "text/plain": [
       "a    20\n",
       "e    12\n",
       "c     8\n",
       "f    14\n",
       "dtype: int64"
      ]
     },
     "execution_count": 37,
     "metadata": {},
     "output_type": "execute_result"
    }
   ],
   "source": [
    "diffSeries2"
   ]
  },
  {
   "cell_type": "code",
   "execution_count": 39,
   "id": "74ead9ca",
   "metadata": {},
   "outputs": [
    {
     "data": {
      "text/plain": [
       "a    30.0\n",
       "b     NaN\n",
       "c    11.0\n",
       "d     NaN\n",
       "e     NaN\n",
       "f     NaN\n",
       "dtype: float64"
      ]
     },
     "execution_count": 39,
     "metadata": {},
     "output_type": "execute_result"
    }
   ],
   "source": [
    "# Yalnızca eşleşen field lar toplandı, eşleşmeyenler NaN value döndü\n",
    "diffSeries1 + diffSeries2"
   ]
  },
  {
   "cell_type": "markdown",
   "id": "e5079e7f",
   "metadata": {},
   "source": [
    "## DataFrame"
   ]
  },
  {
   "cell_type": "code",
   "execution_count": 2,
   "id": "c3539e74",
   "metadata": {},
   "outputs": [
    {
     "data": {
      "text/plain": [
       "array([[ 0.20466711, -1.14457154,  0.27970375],\n",
       "       [-1.6558147 ,  0.01663283,  0.01731971],\n",
       "       [ 1.30398493, -0.29964773, -1.95761669],\n",
       "       [-0.27961588,  2.56938426, -0.07389774]])"
      ]
     },
     "execution_count": 2,
     "metadata": {},
     "output_type": "execute_result"
    }
   ],
   "source": [
    "matrix = np.random.randn(4,3)\n",
    "matrix"
   ]
  },
  {
   "cell_type": "code",
   "execution_count": 4,
   "id": "1364c32c",
   "metadata": {},
   "outputs": [
    {
     "data": {
      "text/html": [
       "<div>\n",
       "<style scoped>\n",
       "    .dataframe tbody tr th:only-of-type {\n",
       "        vertical-align: middle;\n",
       "    }\n",
       "\n",
       "    .dataframe tbody tr th {\n",
       "        vertical-align: top;\n",
       "    }\n",
       "\n",
       "    .dataframe thead th {\n",
       "        text-align: right;\n",
       "    }\n",
       "</style>\n",
       "<table border=\"1\" class=\"dataframe\">\n",
       "  <thead>\n",
       "    <tr style=\"text-align: right;\">\n",
       "      <th></th>\n",
       "      <th>A</th>\n",
       "      <th>B</th>\n",
       "      <th>C</th>\n",
       "    </tr>\n",
       "  </thead>\n",
       "  <tbody>\n",
       "    <tr>\n",
       "      <th>0</th>\n",
       "      <td>0.204667</td>\n",
       "      <td>-1.144572</td>\n",
       "      <td>0.279704</td>\n",
       "    </tr>\n",
       "    <tr>\n",
       "      <th>1</th>\n",
       "      <td>-1.655815</td>\n",
       "      <td>0.016633</td>\n",
       "      <td>0.017320</td>\n",
       "    </tr>\n",
       "    <tr>\n",
       "      <th>2</th>\n",
       "      <td>1.303985</td>\n",
       "      <td>-0.299648</td>\n",
       "      <td>-1.957617</td>\n",
       "    </tr>\n",
       "    <tr>\n",
       "      <th>3</th>\n",
       "      <td>-0.279616</td>\n",
       "      <td>2.569384</td>\n",
       "      <td>-0.073898</td>\n",
       "    </tr>\n",
       "  </tbody>\n",
       "</table>\n",
       "</div>"
      ],
      "text/plain": [
       "          A         B         C\n",
       "0  0.204667 -1.144572  0.279704\n",
       "1 -1.655815  0.016633  0.017320\n",
       "2  1.303985 -0.299648 -1.957617\n",
       "3 -0.279616  2.569384 -0.073898"
      ]
     },
     "execution_count": 4,
     "metadata": {},
     "output_type": "execute_result"
    }
   ],
   "source": [
    "df = pd.DataFrame(data=matrix, columns=\"A B C\".split())\n",
    "df"
   ]
  },
  {
   "cell_type": "code",
   "execution_count": 6,
   "id": "24ff299a",
   "metadata": {},
   "outputs": [
    {
     "data": {
      "text/plain": [
       "0    0.204667\n",
       "1   -1.655815\n",
       "2    1.303985\n",
       "3   -0.279616\n",
       "Name: A, dtype: float64"
      ]
     },
     "execution_count": 6,
     "metadata": {},
     "output_type": "execute_result"
    }
   ],
   "source": [
    "# First column\n",
    "df['A']"
   ]
  },
  {
   "cell_type": "code",
   "execution_count": 7,
   "id": "0d45c7b6",
   "metadata": {},
   "outputs": [
    {
     "data": {
      "text/plain": [
       "0   -1.144572\n",
       "1    0.016633\n",
       "2   -0.299648\n",
       "3    2.569384\n",
       "Name: B, dtype: float64"
      ]
     },
     "execution_count": 7,
     "metadata": {},
     "output_type": "execute_result"
    }
   ],
   "source": [
    "# Second column\n",
    "df['B']"
   ]
  },
  {
   "cell_type": "code",
   "execution_count": 9,
   "id": "bec9e57f",
   "metadata": {},
   "outputs": [
    {
     "data": {
      "text/html": [
       "<div>\n",
       "<style scoped>\n",
       "    .dataframe tbody tr th:only-of-type {\n",
       "        vertical-align: middle;\n",
       "    }\n",
       "\n",
       "    .dataframe tbody tr th {\n",
       "        vertical-align: top;\n",
       "    }\n",
       "\n",
       "    .dataframe thead th {\n",
       "        text-align: right;\n",
       "    }\n",
       "</style>\n",
       "<table border=\"1\" class=\"dataframe\">\n",
       "  <thead>\n",
       "    <tr style=\"text-align: right;\">\n",
       "      <th></th>\n",
       "      <th>Maas</th>\n",
       "      <th>Yas</th>\n",
       "      <th>CalismaSaati</th>\n",
       "    </tr>\n",
       "  </thead>\n",
       "  <tbody>\n",
       "    <tr>\n",
       "      <th>Anıl</th>\n",
       "      <td>0.204667</td>\n",
       "      <td>-1.144572</td>\n",
       "      <td>0.279704</td>\n",
       "    </tr>\n",
       "    <tr>\n",
       "      <th>Atil</th>\n",
       "      <td>-1.655815</td>\n",
       "      <td>0.016633</td>\n",
       "      <td>0.017320</td>\n",
       "    </tr>\n",
       "    <tr>\n",
       "      <th>Zeynep</th>\n",
       "      <td>1.303985</td>\n",
       "      <td>-0.299648</td>\n",
       "      <td>-1.957617</td>\n",
       "    </tr>\n",
       "    <tr>\n",
       "      <th>Atlas</th>\n",
       "      <td>-0.279616</td>\n",
       "      <td>2.569384</td>\n",
       "      <td>-0.073898</td>\n",
       "    </tr>\n",
       "  </tbody>\n",
       "</table>\n",
       "</div>"
      ],
      "text/plain": [
       "            Maas       Yas  CalismaSaati\n",
       "Anıl    0.204667 -1.144572      0.279704\n",
       "Atil   -1.655815  0.016633      0.017320\n",
       "Zeynep  1.303985 -0.299648     -1.957617\n",
       "Atlas  -0.279616  2.569384     -0.073898"
      ]
     },
     "execution_count": 9,
     "metadata": {},
     "output_type": "execute_result"
    }
   ],
   "source": [
    "dfNew = pd.DataFrame(data=matrix, index = \"Anıl Atil Zeynep Atlas\".split(),\n",
    "                    columns=\"Maas Yas CalismaSaati\".split())\n",
    "dfNew"
   ]
  },
  {
   "cell_type": "code",
   "execution_count": 10,
   "id": "6fd10836",
   "metadata": {},
   "outputs": [
    {
     "data": {
      "text/plain": [
       "Anıl     -1.144572\n",
       "Atil      0.016633\n",
       "Zeynep   -0.299648\n",
       "Atlas     2.569384\n",
       "Name: Yas, dtype: float64"
      ]
     },
     "execution_count": 10,
     "metadata": {},
     "output_type": "execute_result"
    }
   ],
   "source": [
    "# Age of employees\n",
    "dfNew[\"Yas\"]"
   ]
  },
  {
   "cell_type": "code",
   "execution_count": 11,
   "id": "275ed9c5",
   "metadata": {},
   "outputs": [
    {
     "data": {
      "text/plain": [
       "Anıl      0.279704\n",
       "Atil      0.017320\n",
       "Zeynep   -1.957617\n",
       "Atlas    -0.073898\n",
       "Name: CalismaSaati, dtype: float64"
      ]
     },
     "execution_count": 11,
     "metadata": {},
     "output_type": "execute_result"
    }
   ],
   "source": [
    "# Shift hours of employees\n",
    "dfNew[\"CalismaSaati\"]"
   ]
  },
  {
   "cell_type": "code",
   "execution_count": 12,
   "id": "c30680fa",
   "metadata": {},
   "outputs": [
    {
     "data": {
      "text/html": [
       "<div>\n",
       "<style scoped>\n",
       "    .dataframe tbody tr th:only-of-type {\n",
       "        vertical-align: middle;\n",
       "    }\n",
       "\n",
       "    .dataframe tbody tr th {\n",
       "        vertical-align: top;\n",
       "    }\n",
       "\n",
       "    .dataframe thead th {\n",
       "        text-align: right;\n",
       "    }\n",
       "</style>\n",
       "<table border=\"1\" class=\"dataframe\">\n",
       "  <thead>\n",
       "    <tr style=\"text-align: right;\">\n",
       "      <th></th>\n",
       "      <th>Maas</th>\n",
       "      <th>Yas</th>\n",
       "    </tr>\n",
       "  </thead>\n",
       "  <tbody>\n",
       "    <tr>\n",
       "      <th>Anıl</th>\n",
       "      <td>0.204667</td>\n",
       "      <td>-1.144572</td>\n",
       "    </tr>\n",
       "    <tr>\n",
       "      <th>Atil</th>\n",
       "      <td>-1.655815</td>\n",
       "      <td>0.016633</td>\n",
       "    </tr>\n",
       "    <tr>\n",
       "      <th>Zeynep</th>\n",
       "      <td>1.303985</td>\n",
       "      <td>-0.299648</td>\n",
       "    </tr>\n",
       "    <tr>\n",
       "      <th>Atlas</th>\n",
       "      <td>-0.279616</td>\n",
       "      <td>2.569384</td>\n",
       "    </tr>\n",
       "  </tbody>\n",
       "</table>\n",
       "</div>"
      ],
      "text/plain": [
       "            Maas       Yas\n",
       "Anıl    0.204667 -1.144572\n",
       "Atil   -1.655815  0.016633\n",
       "Zeynep  1.303985 -0.299648\n",
       "Atlas  -0.279616  2.569384"
      ]
     },
     "execution_count": 12,
     "metadata": {},
     "output_type": "execute_result"
    }
   ],
   "source": [
    "dfNew[[\"Maas\", \"Yas\"]]"
   ]
  },
  {
   "cell_type": "code",
   "execution_count": 16,
   "id": "5aca2d59",
   "metadata": {},
   "outputs": [
    {
     "data": {
      "text/plain": [
       "Maas           -1.655815\n",
       "Yas             0.016633\n",
       "CalismaSaati    0.017320\n",
       "Name: Atil, dtype: float64"
      ]
     },
     "execution_count": 16,
     "metadata": {},
     "output_type": "execute_result"
    }
   ],
   "source": [
    "# Row based\n",
    "dfNew.loc[\"Atil\"]"
   ]
  },
  {
   "cell_type": "code",
   "execution_count": 15,
   "id": "fb048f62",
   "metadata": {},
   "outputs": [
    {
     "data": {
      "text/plain": [
       "Maas           -1.655815\n",
       "Yas             0.016633\n",
       "CalismaSaati    0.017320\n",
       "Name: Atil, dtype: float64"
      ]
     },
     "execution_count": 15,
     "metadata": {},
     "output_type": "execute_result"
    }
   ],
   "source": [
    "dfNew.iloc[1]"
   ]
  },
  {
   "cell_type": "code",
   "execution_count": 19,
   "id": "a45308f2",
   "metadata": {},
   "outputs": [
    {
     "data": {
      "text/html": [
       "<div>\n",
       "<style scoped>\n",
       "    .dataframe tbody tr th:only-of-type {\n",
       "        vertical-align: middle;\n",
       "    }\n",
       "\n",
       "    .dataframe tbody tr th {\n",
       "        vertical-align: top;\n",
       "    }\n",
       "\n",
       "    .dataframe thead th {\n",
       "        text-align: right;\n",
       "    }\n",
       "</style>\n",
       "<table border=\"1\" class=\"dataframe\">\n",
       "  <thead>\n",
       "    <tr style=\"text-align: right;\">\n",
       "      <th></th>\n",
       "      <th>Maas</th>\n",
       "      <th>Yas</th>\n",
       "      <th>CalismaSaati</th>\n",
       "      <th>Emeklilik Yasi</th>\n",
       "    </tr>\n",
       "  </thead>\n",
       "  <tbody>\n",
       "    <tr>\n",
       "      <th>Anıl</th>\n",
       "      <td>0.204667</td>\n",
       "      <td>-1.144572</td>\n",
       "      <td>0.279704</td>\n",
       "      <td>-2.289143</td>\n",
       "    </tr>\n",
       "    <tr>\n",
       "      <th>Atil</th>\n",
       "      <td>-1.655815</td>\n",
       "      <td>0.016633</td>\n",
       "      <td>0.017320</td>\n",
       "      <td>0.033266</td>\n",
       "    </tr>\n",
       "    <tr>\n",
       "      <th>Zeynep</th>\n",
       "      <td>1.303985</td>\n",
       "      <td>-0.299648</td>\n",
       "      <td>-1.957617</td>\n",
       "      <td>-0.599295</td>\n",
       "    </tr>\n",
       "    <tr>\n",
       "      <th>Atlas</th>\n",
       "      <td>-0.279616</td>\n",
       "      <td>2.569384</td>\n",
       "      <td>-0.073898</td>\n",
       "      <td>5.138769</td>\n",
       "    </tr>\n",
       "  </tbody>\n",
       "</table>\n",
       "</div>"
      ],
      "text/plain": [
       "            Maas       Yas  CalismaSaati  Emeklilik Yasi\n",
       "Anıl    0.204667 -1.144572      0.279704       -2.289143\n",
       "Atil   -1.655815  0.016633      0.017320        0.033266\n",
       "Zeynep  1.303985 -0.299648     -1.957617       -0.599295\n",
       "Atlas  -0.279616  2.569384     -0.073898        5.138769"
      ]
     },
     "execution_count": 19,
     "metadata": {},
     "output_type": "execute_result"
    }
   ],
   "source": [
    "dfNew[\"Emeklilik Yasi\"] = dfNew[\"Yas\"] * 2\n",
    "dfNew"
   ]
  },
  {
   "cell_type": "code",
   "execution_count": 21,
   "id": "68324373",
   "metadata": {},
   "outputs": [
    {
     "data": {
      "text/html": [
       "<div>\n",
       "<style scoped>\n",
       "    .dataframe tbody tr th:only-of-type {\n",
       "        vertical-align: middle;\n",
       "    }\n",
       "\n",
       "    .dataframe tbody tr th {\n",
       "        vertical-align: top;\n",
       "    }\n",
       "\n",
       "    .dataframe thead th {\n",
       "        text-align: right;\n",
       "    }\n",
       "</style>\n",
       "<table border=\"1\" class=\"dataframe\">\n",
       "  <thead>\n",
       "    <tr style=\"text-align: right;\">\n",
       "      <th></th>\n",
       "      <th>Maas</th>\n",
       "      <th>Yas</th>\n",
       "      <th>CalismaSaati</th>\n",
       "    </tr>\n",
       "  </thead>\n",
       "  <tbody>\n",
       "    <tr>\n",
       "      <th>Anıl</th>\n",
       "      <td>0.204667</td>\n",
       "      <td>-1.144572</td>\n",
       "      <td>0.279704</td>\n",
       "    </tr>\n",
       "    <tr>\n",
       "      <th>Atil</th>\n",
       "      <td>-1.655815</td>\n",
       "      <td>0.016633</td>\n",
       "      <td>0.017320</td>\n",
       "    </tr>\n",
       "    <tr>\n",
       "      <th>Zeynep</th>\n",
       "      <td>1.303985</td>\n",
       "      <td>-0.299648</td>\n",
       "      <td>-1.957617</td>\n",
       "    </tr>\n",
       "    <tr>\n",
       "      <th>Atlas</th>\n",
       "      <td>-0.279616</td>\n",
       "      <td>2.569384</td>\n",
       "      <td>-0.073898</td>\n",
       "    </tr>\n",
       "  </tbody>\n",
       "</table>\n",
       "</div>"
      ],
      "text/plain": [
       "            Maas       Yas  CalismaSaati\n",
       "Anıl    0.204667 -1.144572      0.279704\n",
       "Atil   -1.655815  0.016633      0.017320\n",
       "Zeynep  1.303985 -0.299648     -1.957617\n",
       "Atlas  -0.279616  2.569384     -0.073898"
      ]
     },
     "execution_count": 21,
     "metadata": {},
     "output_type": "execute_result"
    }
   ],
   "source": [
    "dfNew.drop(\"Emeklilik Yasi\", axis=1)"
   ]
  },
  {
   "cell_type": "code",
   "execution_count": 22,
   "id": "6ef23bbf",
   "metadata": {},
   "outputs": [
    {
     "data": {
      "text/html": [
       "<div>\n",
       "<style scoped>\n",
       "    .dataframe tbody tr th:only-of-type {\n",
       "        vertical-align: middle;\n",
       "    }\n",
       "\n",
       "    .dataframe tbody tr th {\n",
       "        vertical-align: top;\n",
       "    }\n",
       "\n",
       "    .dataframe thead th {\n",
       "        text-align: right;\n",
       "    }\n",
       "</style>\n",
       "<table border=\"1\" class=\"dataframe\">\n",
       "  <thead>\n",
       "    <tr style=\"text-align: right;\">\n",
       "      <th></th>\n",
       "      <th>Maas</th>\n",
       "      <th>Yas</th>\n",
       "      <th>CalismaSaati</th>\n",
       "      <th>Emeklilik Yasi</th>\n",
       "    </tr>\n",
       "  </thead>\n",
       "  <tbody>\n",
       "    <tr>\n",
       "      <th>Atil</th>\n",
       "      <td>-1.655815</td>\n",
       "      <td>0.016633</td>\n",
       "      <td>0.017320</td>\n",
       "      <td>0.033266</td>\n",
       "    </tr>\n",
       "    <tr>\n",
       "      <th>Zeynep</th>\n",
       "      <td>1.303985</td>\n",
       "      <td>-0.299648</td>\n",
       "      <td>-1.957617</td>\n",
       "      <td>-0.599295</td>\n",
       "    </tr>\n",
       "    <tr>\n",
       "      <th>Atlas</th>\n",
       "      <td>-0.279616</td>\n",
       "      <td>2.569384</td>\n",
       "      <td>-0.073898</td>\n",
       "      <td>5.138769</td>\n",
       "    </tr>\n",
       "  </tbody>\n",
       "</table>\n",
       "</div>"
      ],
      "text/plain": [
       "            Maas       Yas  CalismaSaati  Emeklilik Yasi\n",
       "Atil   -1.655815  0.016633      0.017320        0.033266\n",
       "Zeynep  1.303985 -0.299648     -1.957617       -0.599295\n",
       "Atlas  -0.279616  2.569384     -0.073898        5.138769"
      ]
     },
     "execution_count": 22,
     "metadata": {},
     "output_type": "execute_result"
    }
   ],
   "source": [
    "dfNew.drop(\"Anıl\")"
   ]
  },
  {
   "cell_type": "code",
   "execution_count": 23,
   "id": "60164573",
   "metadata": {},
   "outputs": [
    {
     "data": {
      "text/html": [
       "<div>\n",
       "<style scoped>\n",
       "    .dataframe tbody tr th:only-of-type {\n",
       "        vertical-align: middle;\n",
       "    }\n",
       "\n",
       "    .dataframe tbody tr th {\n",
       "        vertical-align: top;\n",
       "    }\n",
       "\n",
       "    .dataframe thead th {\n",
       "        text-align: right;\n",
       "    }\n",
       "</style>\n",
       "<table border=\"1\" class=\"dataframe\">\n",
       "  <thead>\n",
       "    <tr style=\"text-align: right;\">\n",
       "      <th></th>\n",
       "      <th>Maas</th>\n",
       "      <th>Yas</th>\n",
       "      <th>CalismaSaati</th>\n",
       "      <th>Emeklilik Yasi</th>\n",
       "    </tr>\n",
       "  </thead>\n",
       "  <tbody>\n",
       "    <tr>\n",
       "      <th>Anıl</th>\n",
       "      <td>0.204667</td>\n",
       "      <td>-1.144572</td>\n",
       "      <td>0.279704</td>\n",
       "      <td>-2.289143</td>\n",
       "    </tr>\n",
       "    <tr>\n",
       "      <th>Atil</th>\n",
       "      <td>-1.655815</td>\n",
       "      <td>0.016633</td>\n",
       "      <td>0.017320</td>\n",
       "      <td>0.033266</td>\n",
       "    </tr>\n",
       "    <tr>\n",
       "      <th>Zeynep</th>\n",
       "      <td>1.303985</td>\n",
       "      <td>-0.299648</td>\n",
       "      <td>-1.957617</td>\n",
       "      <td>-0.599295</td>\n",
       "    </tr>\n",
       "    <tr>\n",
       "      <th>Atlas</th>\n",
       "      <td>-0.279616</td>\n",
       "      <td>2.569384</td>\n",
       "      <td>-0.073898</td>\n",
       "      <td>5.138769</td>\n",
       "    </tr>\n",
       "  </tbody>\n",
       "</table>\n",
       "</div>"
      ],
      "text/plain": [
       "            Maas       Yas  CalismaSaati  Emeklilik Yasi\n",
       "Anıl    0.204667 -1.144572      0.279704       -2.289143\n",
       "Atil   -1.655815  0.016633      0.017320        0.033266\n",
       "Zeynep  1.303985 -0.299648     -1.957617       -0.599295\n",
       "Atlas  -0.279616  2.569384     -0.073898        5.138769"
      ]
     },
     "execution_count": 23,
     "metadata": {},
     "output_type": "execute_result"
    }
   ],
   "source": [
    "# Dropping columns and rows had no effect on actual data frame\n",
    "dfNew"
   ]
  },
  {
   "cell_type": "code",
   "execution_count": 24,
   "id": "e4eb4235",
   "metadata": {},
   "outputs": [
    {
     "data": {
      "text/html": [
       "<div>\n",
       "<style scoped>\n",
       "    .dataframe tbody tr th:only-of-type {\n",
       "        vertical-align: middle;\n",
       "    }\n",
       "\n",
       "    .dataframe tbody tr th {\n",
       "        vertical-align: top;\n",
       "    }\n",
       "\n",
       "    .dataframe thead th {\n",
       "        text-align: right;\n",
       "    }\n",
       "</style>\n",
       "<table border=\"1\" class=\"dataframe\">\n",
       "  <thead>\n",
       "    <tr style=\"text-align: right;\">\n",
       "      <th></th>\n",
       "      <th>Maas</th>\n",
       "      <th>Yas</th>\n",
       "      <th>CalismaSaati</th>\n",
       "    </tr>\n",
       "  </thead>\n",
       "  <tbody>\n",
       "    <tr>\n",
       "      <th>Anıl</th>\n",
       "      <td>0.204667</td>\n",
       "      <td>-1.144572</td>\n",
       "      <td>0.279704</td>\n",
       "    </tr>\n",
       "    <tr>\n",
       "      <th>Atil</th>\n",
       "      <td>-1.655815</td>\n",
       "      <td>0.016633</td>\n",
       "      <td>0.017320</td>\n",
       "    </tr>\n",
       "    <tr>\n",
       "      <th>Zeynep</th>\n",
       "      <td>1.303985</td>\n",
       "      <td>-0.299648</td>\n",
       "      <td>-1.957617</td>\n",
       "    </tr>\n",
       "    <tr>\n",
       "      <th>Atlas</th>\n",
       "      <td>-0.279616</td>\n",
       "      <td>2.569384</td>\n",
       "      <td>-0.073898</td>\n",
       "    </tr>\n",
       "  </tbody>\n",
       "</table>\n",
       "</div>"
      ],
      "text/plain": [
       "            Maas       Yas  CalismaSaati\n",
       "Anıl    0.204667 -1.144572      0.279704\n",
       "Atil   -1.655815  0.016633      0.017320\n",
       "Zeynep  1.303985 -0.299648     -1.957617\n",
       "Atlas  -0.279616  2.569384     -0.073898"
      ]
     },
     "execution_count": 24,
     "metadata": {},
     "output_type": "execute_result"
    }
   ],
   "source": [
    "# we should write inplace=True that changes will updated\n",
    "dfNew.drop(\"Emeklilik Yasi\", axis=1, inplace=True)\n",
    "dfNew"
   ]
  },
  {
   "cell_type": "code",
   "execution_count": 28,
   "id": "8b4294f1",
   "metadata": {},
   "outputs": [
    {
     "data": {
      "text/plain": [
       "-1.6558147030193067"
      ]
     },
     "execution_count": 28,
     "metadata": {},
     "output_type": "execute_result"
    }
   ],
   "source": [
    "# dfNew.loc[\"Atil\"][0]\n",
    "# dfNew.loc[\"Atil\"][\"Maas\"]\n",
    "dfNew.loc[\"Atil\", \"Maas\"]"
   ]
  },
  {
   "cell_type": "code",
   "execution_count": 33,
   "id": "4caef6aa",
   "metadata": {},
   "outputs": [
    {
     "data": {
      "text/html": [
       "<div>\n",
       "<style scoped>\n",
       "    .dataframe tbody tr th:only-of-type {\n",
       "        vertical-align: middle;\n",
       "    }\n",
       "\n",
       "    .dataframe tbody tr th {\n",
       "        vertical-align: top;\n",
       "    }\n",
       "\n",
       "    .dataframe thead th {\n",
       "        text-align: right;\n",
       "    }\n",
       "</style>\n",
       "<table border=\"1\" class=\"dataframe\">\n",
       "  <thead>\n",
       "    <tr style=\"text-align: right;\">\n",
       "      <th></th>\n",
       "      <th>Maas</th>\n",
       "      <th>Yas</th>\n",
       "      <th>CalismaSaati</th>\n",
       "    </tr>\n",
       "  </thead>\n",
       "  <tbody>\n",
       "    <tr>\n",
       "      <th>Anıl</th>\n",
       "      <td>0.204667</td>\n",
       "      <td>-1.144572</td>\n",
       "      <td>0.279704</td>\n",
       "    </tr>\n",
       "    <tr>\n",
       "      <th>Zeynep</th>\n",
       "      <td>1.303985</td>\n",
       "      <td>-0.299648</td>\n",
       "      <td>-1.957617</td>\n",
       "    </tr>\n",
       "  </tbody>\n",
       "</table>\n",
       "</div>"
      ],
      "text/plain": [
       "            Maas       Yas  CalismaSaati\n",
       "Anıl    0.204667 -1.144572      0.279704\n",
       "Zeynep  1.303985 -0.299648     -1.957617"
      ]
     },
     "execution_count": 33,
     "metadata": {},
     "output_type": "execute_result"
    }
   ],
   "source": [
    "dfNew[dfNew[\"Maas\"] > 0]"
   ]
  },
  {
   "cell_type": "code",
   "execution_count": 34,
   "id": "2e463071",
   "metadata": {},
   "outputs": [
    {
     "data": {
      "text/html": [
       "<div>\n",
       "<style scoped>\n",
       "    .dataframe tbody tr th:only-of-type {\n",
       "        vertical-align: middle;\n",
       "    }\n",
       "\n",
       "    .dataframe tbody tr th {\n",
       "        vertical-align: top;\n",
       "    }\n",
       "\n",
       "    .dataframe thead th {\n",
       "        text-align: right;\n",
       "    }\n",
       "</style>\n",
       "<table border=\"1\" class=\"dataframe\">\n",
       "  <thead>\n",
       "    <tr style=\"text-align: right;\">\n",
       "      <th></th>\n",
       "      <th>Maas</th>\n",
       "      <th>Yas</th>\n",
       "      <th>CalismaSaati</th>\n",
       "    </tr>\n",
       "  </thead>\n",
       "  <tbody>\n",
       "    <tr>\n",
       "      <th>Atil</th>\n",
       "      <td>-1.655815</td>\n",
       "      <td>0.016633</td>\n",
       "      <td>0.017320</td>\n",
       "    </tr>\n",
       "    <tr>\n",
       "      <th>Atlas</th>\n",
       "      <td>-0.279616</td>\n",
       "      <td>2.569384</td>\n",
       "      <td>-0.073898</td>\n",
       "    </tr>\n",
       "  </tbody>\n",
       "</table>\n",
       "</div>"
      ],
      "text/plain": [
       "           Maas       Yas  CalismaSaati\n",
       "Atil  -1.655815  0.016633      0.017320\n",
       "Atlas -0.279616  2.569384     -0.073898"
      ]
     },
     "execution_count": 34,
     "metadata": {},
     "output_type": "execute_result"
    }
   ],
   "source": [
    "dfNew[dfNew[\"Yas\"] > 0]"
   ]
  },
  {
   "cell_type": "code",
   "execution_count": 38,
   "id": "3a424697",
   "metadata": {},
   "outputs": [
    {
     "data": {
      "text/html": [
       "<div>\n",
       "<style scoped>\n",
       "    .dataframe tbody tr th:only-of-type {\n",
       "        vertical-align: middle;\n",
       "    }\n",
       "\n",
       "    .dataframe tbody tr th {\n",
       "        vertical-align: top;\n",
       "    }\n",
       "\n",
       "    .dataframe thead th {\n",
       "        text-align: right;\n",
       "    }\n",
       "</style>\n",
       "<table border=\"1\" class=\"dataframe\">\n",
       "  <thead>\n",
       "    <tr style=\"text-align: right;\">\n",
       "      <th></th>\n",
       "      <th>Maas</th>\n",
       "      <th>Yas</th>\n",
       "      <th>CalismaSaati</th>\n",
       "    </tr>\n",
       "  </thead>\n",
       "  <tbody>\n",
       "    <tr>\n",
       "      <th>Atil</th>\n",
       "      <td>-1.655815</td>\n",
       "      <td>0.016633</td>\n",
       "      <td>0.017320</td>\n",
       "    </tr>\n",
       "    <tr>\n",
       "      <th>Atlas</th>\n",
       "      <td>-0.279616</td>\n",
       "      <td>2.569384</td>\n",
       "      <td>-0.073898</td>\n",
       "    </tr>\n",
       "  </tbody>\n",
       "</table>\n",
       "</div>"
      ],
      "text/plain": [
       "           Maas       Yas  CalismaSaati\n",
       "Atil  -1.655815  0.016633      0.017320\n",
       "Atlas -0.279616  2.569384     -0.073898"
      ]
     },
     "execution_count": 38,
     "metadata": {},
     "output_type": "execute_result"
    }
   ],
   "source": [
    "dfNew[(dfNew[\"Yas\"] > 0) & (dfNew[\"Maas\"] < 0)]"
   ]
  },
  {
   "cell_type": "code",
   "execution_count": 39,
   "id": "c39707ac",
   "metadata": {},
   "outputs": [
    {
     "data": {
      "text/html": [
       "<div>\n",
       "<style scoped>\n",
       "    .dataframe tbody tr th:only-of-type {\n",
       "        vertical-align: middle;\n",
       "    }\n",
       "\n",
       "    .dataframe tbody tr th {\n",
       "        vertical-align: top;\n",
       "    }\n",
       "\n",
       "    .dataframe thead th {\n",
       "        text-align: right;\n",
       "    }\n",
       "</style>\n",
       "<table border=\"1\" class=\"dataframe\">\n",
       "  <thead>\n",
       "    <tr style=\"text-align: right;\">\n",
       "      <th></th>\n",
       "      <th>index</th>\n",
       "      <th>Maas</th>\n",
       "      <th>Yas</th>\n",
       "      <th>CalismaSaati</th>\n",
       "    </tr>\n",
       "  </thead>\n",
       "  <tbody>\n",
       "    <tr>\n",
       "      <th>0</th>\n",
       "      <td>Anıl</td>\n",
       "      <td>0.204667</td>\n",
       "      <td>-1.144572</td>\n",
       "      <td>0.279704</td>\n",
       "    </tr>\n",
       "    <tr>\n",
       "      <th>1</th>\n",
       "      <td>Atil</td>\n",
       "      <td>-1.655815</td>\n",
       "      <td>0.016633</td>\n",
       "      <td>0.017320</td>\n",
       "    </tr>\n",
       "    <tr>\n",
       "      <th>2</th>\n",
       "      <td>Zeynep</td>\n",
       "      <td>1.303985</td>\n",
       "      <td>-0.299648</td>\n",
       "      <td>-1.957617</td>\n",
       "    </tr>\n",
       "    <tr>\n",
       "      <th>3</th>\n",
       "      <td>Atlas</td>\n",
       "      <td>-0.279616</td>\n",
       "      <td>2.569384</td>\n",
       "      <td>-0.073898</td>\n",
       "    </tr>\n",
       "  </tbody>\n",
       "</table>\n",
       "</div>"
      ],
      "text/plain": [
       "    index      Maas       Yas  CalismaSaati\n",
       "0    Anıl  0.204667 -1.144572      0.279704\n",
       "1    Atil -1.655815  0.016633      0.017320\n",
       "2  Zeynep  1.303985 -0.299648     -1.957617\n",
       "3   Atlas -0.279616  2.569384     -0.073898"
      ]
     },
     "execution_count": 39,
     "metadata": {},
     "output_type": "execute_result"
    }
   ],
   "source": [
    "# Reset indices\n",
    "dfNew.reset_index()"
   ]
  },
  {
   "cell_type": "code",
   "execution_count": 42,
   "id": "9a1b4c05",
   "metadata": {},
   "outputs": [
    {
     "data": {
      "text/html": [
       "<div>\n",
       "<style scoped>\n",
       "    .dataframe tbody tr th:only-of-type {\n",
       "        vertical-align: middle;\n",
       "    }\n",
       "\n",
       "    .dataframe tbody tr th {\n",
       "        vertical-align: top;\n",
       "    }\n",
       "\n",
       "    .dataframe thead th {\n",
       "        text-align: right;\n",
       "    }\n",
       "</style>\n",
       "<table border=\"1\" class=\"dataframe\">\n",
       "  <thead>\n",
       "    <tr style=\"text-align: right;\">\n",
       "      <th></th>\n",
       "      <th>Maas</th>\n",
       "      <th>Yas</th>\n",
       "      <th>CalismaSaati</th>\n",
       "      <th>New index</th>\n",
       "    </tr>\n",
       "  </thead>\n",
       "  <tbody>\n",
       "    <tr>\n",
       "      <th>Anıl</th>\n",
       "      <td>0.204667</td>\n",
       "      <td>-1.144572</td>\n",
       "      <td>0.279704</td>\n",
       "      <td>Ati</td>\n",
       "    </tr>\n",
       "    <tr>\n",
       "      <th>Atil</th>\n",
       "      <td>-1.655815</td>\n",
       "      <td>0.016633</td>\n",
       "      <td>0.017320</td>\n",
       "      <td>Zey</td>\n",
       "    </tr>\n",
       "    <tr>\n",
       "      <th>Zeynep</th>\n",
       "      <td>1.303985</td>\n",
       "      <td>-0.299648</td>\n",
       "      <td>-1.957617</td>\n",
       "      <td>Atl</td>\n",
       "    </tr>\n",
       "    <tr>\n",
       "      <th>Atlas</th>\n",
       "      <td>-0.279616</td>\n",
       "      <td>2.569384</td>\n",
       "      <td>-0.073898</td>\n",
       "      <td>Meh</td>\n",
       "    </tr>\n",
       "  </tbody>\n",
       "</table>\n",
       "</div>"
      ],
      "text/plain": [
       "            Maas       Yas  CalismaSaati New index\n",
       "Anıl    0.204667 -1.144572      0.279704       Ati\n",
       "Atil   -1.655815  0.016633      0.017320       Zey\n",
       "Zeynep  1.303985 -0.299648     -1.957617       Atl\n",
       "Atlas  -0.279616  2.569384     -0.073898       Meh"
      ]
     },
     "execution_count": 42,
     "metadata": {},
     "output_type": "execute_result"
    }
   ],
   "source": [
    "indexList = \"Ati Zey Atl Meh\".split()\n",
    "dfNew[\"New index\"] = indexList\n",
    "dfNew"
   ]
  },
  {
   "cell_type": "code",
   "execution_count": 45,
   "id": "49ab5fde",
   "metadata": {},
   "outputs": [],
   "source": [
    "dfNew.set_index(\"New index\", inplace = True)"
   ]
  },
  {
   "cell_type": "code",
   "execution_count": 46,
   "id": "b8500343",
   "metadata": {},
   "outputs": [
    {
     "data": {
      "text/html": [
       "<div>\n",
       "<style scoped>\n",
       "    .dataframe tbody tr th:only-of-type {\n",
       "        vertical-align: middle;\n",
       "    }\n",
       "\n",
       "    .dataframe tbody tr th {\n",
       "        vertical-align: top;\n",
       "    }\n",
       "\n",
       "    .dataframe thead th {\n",
       "        text-align: right;\n",
       "    }\n",
       "</style>\n",
       "<table border=\"1\" class=\"dataframe\">\n",
       "  <thead>\n",
       "    <tr style=\"text-align: right;\">\n",
       "      <th></th>\n",
       "      <th>Maas</th>\n",
       "      <th>Yas</th>\n",
       "      <th>CalismaSaati</th>\n",
       "    </tr>\n",
       "    <tr>\n",
       "      <th>New index</th>\n",
       "      <th></th>\n",
       "      <th></th>\n",
       "      <th></th>\n",
       "    </tr>\n",
       "  </thead>\n",
       "  <tbody>\n",
       "    <tr>\n",
       "      <th>Ati</th>\n",
       "      <td>0.204667</td>\n",
       "      <td>-1.144572</td>\n",
       "      <td>0.279704</td>\n",
       "    </tr>\n",
       "    <tr>\n",
       "      <th>Zey</th>\n",
       "      <td>-1.655815</td>\n",
       "      <td>0.016633</td>\n",
       "      <td>0.017320</td>\n",
       "    </tr>\n",
       "    <tr>\n",
       "      <th>Atl</th>\n",
       "      <td>1.303985</td>\n",
       "      <td>-0.299648</td>\n",
       "      <td>-1.957617</td>\n",
       "    </tr>\n",
       "    <tr>\n",
       "      <th>Meh</th>\n",
       "      <td>-0.279616</td>\n",
       "      <td>2.569384</td>\n",
       "      <td>-0.073898</td>\n",
       "    </tr>\n",
       "  </tbody>\n",
       "</table>\n",
       "</div>"
      ],
      "text/plain": [
       "               Maas       Yas  CalismaSaati\n",
       "New index                                  \n",
       "Ati        0.204667 -1.144572      0.279704\n",
       "Zey       -1.655815  0.016633      0.017320\n",
       "Atl        1.303985 -0.299648     -1.957617\n",
       "Meh       -0.279616  2.569384     -0.073898"
      ]
     },
     "execution_count": 46,
     "metadata": {},
     "output_type": "execute_result"
    }
   ],
   "source": [
    "dfNew"
   ]
  },
  {
   "cell_type": "code",
   "execution_count": 47,
   "id": "59f85c6a",
   "metadata": {},
   "outputs": [
    {
     "data": {
      "text/plain": [
       "Maas            0.204667\n",
       "Yas            -1.144572\n",
       "CalismaSaati    0.279704\n",
       "Name: Ati, dtype: float64"
      ]
     },
     "execution_count": 47,
     "metadata": {},
     "output_type": "execute_result"
    }
   ],
   "source": [
    "dfNew.loc[\"Ati\"]"
   ]
  },
  {
   "cell_type": "code",
   "execution_count": 48,
   "id": "63bdb9a5",
   "metadata": {},
   "outputs": [],
   "source": [
    "firstIndex = [\"Simpson\",\"Simpson\",\"Simpson\", \"South Park\", \"South Park\", \"South Park\"]"
   ]
  },
  {
   "cell_type": "code",
   "execution_count": 49,
   "id": "1d8c6e9f",
   "metadata": {},
   "outputs": [],
   "source": [
    "insideIndex = [\"Homer\", \"Bart\", \"Marge\", \"Cartman\", \"Kenny\", \"Kyle\"]"
   ]
  },
  {
   "cell_type": "code",
   "execution_count": 50,
   "id": "e8fa0ecc",
   "metadata": {},
   "outputs": [],
   "source": [
    "mergedIndexes = list(zip(firstIndex, insideIndex))"
   ]
  },
  {
   "cell_type": "code",
   "execution_count": 51,
   "id": "d711c2c7",
   "metadata": {},
   "outputs": [
    {
     "data": {
      "text/plain": [
       "MultiIndex([(   'Simpson',   'Homer'),\n",
       "            (   'Simpson',    'Bart'),\n",
       "            (   'Simpson',   'Marge'),\n",
       "            ('South Park', 'Cartman'),\n",
       "            ('South Park',   'Kenny'),\n",
       "            ('South Park',    'Kyle')],\n",
       "           )"
      ]
     },
     "execution_count": 51,
     "metadata": {},
     "output_type": "execute_result"
    }
   ],
   "source": [
    "mergedDf = pd.MultiIndex.from_tuples(mergedIndexes)\n",
    "mergedDf"
   ]
  },
  {
   "cell_type": "code",
   "execution_count": 52,
   "id": "78b57518",
   "metadata": {},
   "outputs": [],
   "source": [
    "cartoonsList = [[40,\"A\"], [10, \"B\"], [30, \"C\"], [9, \"D\"], [10, \"E\"], [11,\"F\"]] "
   ]
  },
  {
   "cell_type": "code",
   "execution_count": 53,
   "id": "c1668c82",
   "metadata": {},
   "outputs": [],
   "source": [
    "cartoonsArray = np.array(cartoonsList)"
   ]
  },
  {
   "cell_type": "code",
   "execution_count": 54,
   "id": "5d3d3334",
   "metadata": {},
   "outputs": [],
   "source": [
    "cartoonsDf = pd.DataFrame(data=cartoonsArray, index=mergedDf, columns=[\"Yas\", \"Meslek\"])"
   ]
  },
  {
   "cell_type": "code",
   "execution_count": 55,
   "id": "88d6f431",
   "metadata": {},
   "outputs": [
    {
     "data": {
      "text/html": [
       "<div>\n",
       "<style scoped>\n",
       "    .dataframe tbody tr th:only-of-type {\n",
       "        vertical-align: middle;\n",
       "    }\n",
       "\n",
       "    .dataframe tbody tr th {\n",
       "        vertical-align: top;\n",
       "    }\n",
       "\n",
       "    .dataframe thead th {\n",
       "        text-align: right;\n",
       "    }\n",
       "</style>\n",
       "<table border=\"1\" class=\"dataframe\">\n",
       "  <thead>\n",
       "    <tr style=\"text-align: right;\">\n",
       "      <th></th>\n",
       "      <th></th>\n",
       "      <th>Yas</th>\n",
       "      <th>Meslek</th>\n",
       "    </tr>\n",
       "  </thead>\n",
       "  <tbody>\n",
       "    <tr>\n",
       "      <th rowspan=\"3\" valign=\"top\">Simpson</th>\n",
       "      <th>Homer</th>\n",
       "      <td>40</td>\n",
       "      <td>A</td>\n",
       "    </tr>\n",
       "    <tr>\n",
       "      <th>Bart</th>\n",
       "      <td>10</td>\n",
       "      <td>B</td>\n",
       "    </tr>\n",
       "    <tr>\n",
       "      <th>Marge</th>\n",
       "      <td>30</td>\n",
       "      <td>C</td>\n",
       "    </tr>\n",
       "    <tr>\n",
       "      <th rowspan=\"3\" valign=\"top\">South Park</th>\n",
       "      <th>Cartman</th>\n",
       "      <td>9</td>\n",
       "      <td>D</td>\n",
       "    </tr>\n",
       "    <tr>\n",
       "      <th>Kenny</th>\n",
       "      <td>10</td>\n",
       "      <td>E</td>\n",
       "    </tr>\n",
       "    <tr>\n",
       "      <th>Kyle</th>\n",
       "      <td>11</td>\n",
       "      <td>F</td>\n",
       "    </tr>\n",
       "  </tbody>\n",
       "</table>\n",
       "</div>"
      ],
      "text/plain": [
       "                   Yas Meslek\n",
       "Simpson    Homer    40      A\n",
       "           Bart     10      B\n",
       "           Marge    30      C\n",
       "South Park Cartman   9      D\n",
       "           Kenny    10      E\n",
       "           Kyle     11      F"
      ]
     },
     "execution_count": 55,
     "metadata": {},
     "output_type": "execute_result"
    }
   ],
   "source": [
    "cartoonsDf"
   ]
  },
  {
   "cell_type": "code",
   "execution_count": 57,
   "id": "8b8958a2",
   "metadata": {},
   "outputs": [
    {
     "data": {
      "text/html": [
       "<div>\n",
       "<style scoped>\n",
       "    .dataframe tbody tr th:only-of-type {\n",
       "        vertical-align: middle;\n",
       "    }\n",
       "\n",
       "    .dataframe tbody tr th {\n",
       "        vertical-align: top;\n",
       "    }\n",
       "\n",
       "    .dataframe thead th {\n",
       "        text-align: right;\n",
       "    }\n",
       "</style>\n",
       "<table border=\"1\" class=\"dataframe\">\n",
       "  <thead>\n",
       "    <tr style=\"text-align: right;\">\n",
       "      <th></th>\n",
       "      <th>Yas</th>\n",
       "      <th>Meslek</th>\n",
       "    </tr>\n",
       "  </thead>\n",
       "  <tbody>\n",
       "    <tr>\n",
       "      <th>Homer</th>\n",
       "      <td>40</td>\n",
       "      <td>A</td>\n",
       "    </tr>\n",
       "    <tr>\n",
       "      <th>Bart</th>\n",
       "      <td>10</td>\n",
       "      <td>B</td>\n",
       "    </tr>\n",
       "    <tr>\n",
       "      <th>Marge</th>\n",
       "      <td>30</td>\n",
       "      <td>C</td>\n",
       "    </tr>\n",
       "  </tbody>\n",
       "</table>\n",
       "</div>"
      ],
      "text/plain": [
       "      Yas Meslek\n",
       "Homer  40      A\n",
       "Bart   10      B\n",
       "Marge  30      C"
      ]
     },
     "execution_count": 57,
     "metadata": {},
     "output_type": "execute_result"
    }
   ],
   "source": [
    "cartoonsDf.loc[\"Simpson\"]"
   ]
  },
  {
   "cell_type": "code",
   "execution_count": 58,
   "id": "87e1f8a8",
   "metadata": {},
   "outputs": [
    {
     "data": {
      "text/plain": [
       "Yas       10\n",
       "Meslek     B\n",
       "Name: Bart, dtype: object"
      ]
     },
     "execution_count": 58,
     "metadata": {},
     "output_type": "execute_result"
    }
   ],
   "source": [
    "cartoonsDf.loc[\"Simpson\"].loc[\"Bart\"]"
   ]
  },
  {
   "cell_type": "code",
   "execution_count": 59,
   "id": "abe0bcc5",
   "metadata": {},
   "outputs": [],
   "source": [
    "weather = {\"Istanbul\": [30,29,np.nan], \"Ankara\": [20,np.nan,25], \"Izmir\": [40,39,38]}"
   ]
  },
  {
   "cell_type": "code",
   "execution_count": 60,
   "id": "212422fa",
   "metadata": {},
   "outputs": [],
   "source": [
    "weatherDf = pd.DataFrame(weather)"
   ]
  },
  {
   "cell_type": "code",
   "execution_count": 61,
   "id": "4c18eff4",
   "metadata": {},
   "outputs": [
    {
     "data": {
      "text/html": [
       "<div>\n",
       "<style scoped>\n",
       "    .dataframe tbody tr th:only-of-type {\n",
       "        vertical-align: middle;\n",
       "    }\n",
       "\n",
       "    .dataframe tbody tr th {\n",
       "        vertical-align: top;\n",
       "    }\n",
       "\n",
       "    .dataframe thead th {\n",
       "        text-align: right;\n",
       "    }\n",
       "</style>\n",
       "<table border=\"1\" class=\"dataframe\">\n",
       "  <thead>\n",
       "    <tr style=\"text-align: right;\">\n",
       "      <th></th>\n",
       "      <th>Istanbul</th>\n",
       "      <th>Ankara</th>\n",
       "      <th>Izmir</th>\n",
       "    </tr>\n",
       "  </thead>\n",
       "  <tbody>\n",
       "    <tr>\n",
       "      <th>0</th>\n",
       "      <td>30.0</td>\n",
       "      <td>20.0</td>\n",
       "      <td>40</td>\n",
       "    </tr>\n",
       "    <tr>\n",
       "      <th>1</th>\n",
       "      <td>29.0</td>\n",
       "      <td>NaN</td>\n",
       "      <td>39</td>\n",
       "    </tr>\n",
       "    <tr>\n",
       "      <th>2</th>\n",
       "      <td>NaN</td>\n",
       "      <td>25.0</td>\n",
       "      <td>38</td>\n",
       "    </tr>\n",
       "  </tbody>\n",
       "</table>\n",
       "</div>"
      ],
      "text/plain": [
       "   Istanbul  Ankara  Izmir\n",
       "0      30.0    20.0     40\n",
       "1      29.0     NaN     39\n",
       "2       NaN    25.0     38"
      ]
     },
     "execution_count": 61,
     "metadata": {},
     "output_type": "execute_result"
    }
   ],
   "source": [
    "weatherDf"
   ]
  },
  {
   "cell_type": "code",
   "execution_count": 62,
   "id": "cb381dc6",
   "metadata": {},
   "outputs": [
    {
     "data": {
      "text/html": [
       "<div>\n",
       "<style scoped>\n",
       "    .dataframe tbody tr th:only-of-type {\n",
       "        vertical-align: middle;\n",
       "    }\n",
       "\n",
       "    .dataframe tbody tr th {\n",
       "        vertical-align: top;\n",
       "    }\n",
       "\n",
       "    .dataframe thead th {\n",
       "        text-align: right;\n",
       "    }\n",
       "</style>\n",
       "<table border=\"1\" class=\"dataframe\">\n",
       "  <thead>\n",
       "    <tr style=\"text-align: right;\">\n",
       "      <th></th>\n",
       "      <th>Istanbul</th>\n",
       "      <th>Ankara</th>\n",
       "      <th>Izmir</th>\n",
       "    </tr>\n",
       "  </thead>\n",
       "  <tbody>\n",
       "    <tr>\n",
       "      <th>0</th>\n",
       "      <td>30.0</td>\n",
       "      <td>20.0</td>\n",
       "      <td>40</td>\n",
       "    </tr>\n",
       "  </tbody>\n",
       "</table>\n",
       "</div>"
      ],
      "text/plain": [
       "   Istanbul  Ankara  Izmir\n",
       "0      30.0    20.0     40"
      ]
     },
     "execution_count": 62,
     "metadata": {},
     "output_type": "execute_result"
    }
   ],
   "source": [
    "weatherDf.dropna()"
   ]
  },
  {
   "cell_type": "code",
   "execution_count": 72,
   "id": "2b07e3e0",
   "metadata": {},
   "outputs": [
    {
     "data": {
      "text/html": [
       "<div>\n",
       "<style scoped>\n",
       "    .dataframe tbody tr th:only-of-type {\n",
       "        vertical-align: middle;\n",
       "    }\n",
       "\n",
       "    .dataframe tbody tr th {\n",
       "        vertical-align: top;\n",
       "    }\n",
       "\n",
       "    .dataframe thead th {\n",
       "        text-align: right;\n",
       "    }\n",
       "</style>\n",
       "<table border=\"1\" class=\"dataframe\">\n",
       "  <thead>\n",
       "    <tr style=\"text-align: right;\">\n",
       "      <th></th>\n",
       "      <th>Istanbul</th>\n",
       "      <th>Ankara</th>\n",
       "      <th>Izmir</th>\n",
       "    </tr>\n",
       "  </thead>\n",
       "  <tbody>\n",
       "    <tr>\n",
       "      <th>0</th>\n",
       "      <td>30.0</td>\n",
       "      <td>20.0</td>\n",
       "      <td>40</td>\n",
       "    </tr>\n",
       "    <tr>\n",
       "      <th>1</th>\n",
       "      <td>29.0</td>\n",
       "      <td>NaN</td>\n",
       "      <td>39</td>\n",
       "    </tr>\n",
       "    <tr>\n",
       "      <th>2</th>\n",
       "      <td>NaN</td>\n",
       "      <td>25.0</td>\n",
       "      <td>38</td>\n",
       "    </tr>\n",
       "  </tbody>\n",
       "</table>\n",
       "</div>"
      ],
      "text/plain": [
       "   Istanbul  Ankara  Izmir\n",
       "0      30.0    20.0     40\n",
       "1      29.0     NaN     39\n",
       "2       NaN    25.0     38"
      ]
     },
     "execution_count": 72,
     "metadata": {},
     "output_type": "execute_result"
    }
   ],
   "source": [
    "# Minimum 2 normal values should have given\n",
    "weatherDf.dropna(axis=1, thresh=2)"
   ]
  },
  {
   "cell_type": "code",
   "execution_count": 73,
   "id": "635c74ab",
   "metadata": {},
   "outputs": [
    {
     "data": {
      "text/html": [
       "<div>\n",
       "<style scoped>\n",
       "    .dataframe tbody tr th:only-of-type {\n",
       "        vertical-align: middle;\n",
       "    }\n",
       "\n",
       "    .dataframe tbody tr th {\n",
       "        vertical-align: top;\n",
       "    }\n",
       "\n",
       "    .dataframe thead th {\n",
       "        text-align: right;\n",
       "    }\n",
       "</style>\n",
       "<table border=\"1\" class=\"dataframe\">\n",
       "  <thead>\n",
       "    <tr style=\"text-align: right;\">\n",
       "      <th></th>\n",
       "      <th>Istanbul</th>\n",
       "      <th>Ankara</th>\n",
       "      <th>Izmir</th>\n",
       "    </tr>\n",
       "  </thead>\n",
       "  <tbody>\n",
       "    <tr>\n",
       "      <th>0</th>\n",
       "      <td>30.0</td>\n",
       "      <td>20.0</td>\n",
       "      <td>40</td>\n",
       "    </tr>\n",
       "    <tr>\n",
       "      <th>1</th>\n",
       "      <td>29.0</td>\n",
       "      <td>20.0</td>\n",
       "      <td>39</td>\n",
       "    </tr>\n",
       "    <tr>\n",
       "      <th>2</th>\n",
       "      <td>20.0</td>\n",
       "      <td>25.0</td>\n",
       "      <td>38</td>\n",
       "    </tr>\n",
       "  </tbody>\n",
       "</table>\n",
       "</div>"
      ],
      "text/plain": [
       "   Istanbul  Ankara  Izmir\n",
       "0      30.0    20.0     40\n",
       "1      29.0    20.0     39\n",
       "2      20.0    25.0     38"
      ]
     },
     "execution_count": 73,
     "metadata": {},
     "output_type": "execute_result"
    }
   ],
   "source": [
    "weatherDf.fillna(20)"
   ]
  },
  {
   "cell_type": "code",
   "execution_count": 76,
   "id": "8fa85d42",
   "metadata": {},
   "outputs": [
    {
     "data": {
      "text/plain": [
       "0    20.0\n",
       "1    20.0\n",
       "2    25.0\n",
       "Name: Ankara, dtype: float64"
      ]
     },
     "execution_count": 76,
     "metadata": {},
     "output_type": "execute_result"
    }
   ],
   "source": [
    "weatherDf[\"Ankara\"].fillna(20)"
   ]
  },
  {
   "cell_type": "markdown",
   "id": "15e6bbf7",
   "metadata": {},
   "source": [
    "## groupby"
   ]
  },
  {
   "cell_type": "code",
   "execution_count": 80,
   "id": "af9a9c35",
   "metadata": {},
   "outputs": [],
   "source": [
    "salaryDict = {\"Department\": [\"Software\", \"Software\", \"Finans\", \"Finans\", \"Hukuk\", \"Hukuk\"],\n",
    "            \"Employee Name\": [\"Ahmet\", \"Mehmet\", \"Atil\", \"Burak\", \"Zeynep\", \"Fatma\"],\n",
    "             \"Salary\": [100, 150, 200, 300 ,400, 500] \n",
    "             }"
   ]
  },
  {
   "cell_type": "code",
   "execution_count": 81,
   "id": "9050f2ab",
   "metadata": {},
   "outputs": [],
   "source": [
    "salaryDf = pd.DataFrame(salaryDict)"
   ]
  },
  {
   "cell_type": "code",
   "execution_count": 82,
   "id": "434af027",
   "metadata": {},
   "outputs": [
    {
     "data": {
      "text/html": [
       "<div>\n",
       "<style scoped>\n",
       "    .dataframe tbody tr th:only-of-type {\n",
       "        vertical-align: middle;\n",
       "    }\n",
       "\n",
       "    .dataframe tbody tr th {\n",
       "        vertical-align: top;\n",
       "    }\n",
       "\n",
       "    .dataframe thead th {\n",
       "        text-align: right;\n",
       "    }\n",
       "</style>\n",
       "<table border=\"1\" class=\"dataframe\">\n",
       "  <thead>\n",
       "    <tr style=\"text-align: right;\">\n",
       "      <th></th>\n",
       "      <th>Department</th>\n",
       "      <th>Employee Name</th>\n",
       "      <th>Salary</th>\n",
       "    </tr>\n",
       "  </thead>\n",
       "  <tbody>\n",
       "    <tr>\n",
       "      <th>0</th>\n",
       "      <td>Software</td>\n",
       "      <td>Ahmet</td>\n",
       "      <td>100</td>\n",
       "    </tr>\n",
       "    <tr>\n",
       "      <th>1</th>\n",
       "      <td>Software</td>\n",
       "      <td>Mehmet</td>\n",
       "      <td>150</td>\n",
       "    </tr>\n",
       "    <tr>\n",
       "      <th>2</th>\n",
       "      <td>Finans</td>\n",
       "      <td>Atil</td>\n",
       "      <td>200</td>\n",
       "    </tr>\n",
       "    <tr>\n",
       "      <th>3</th>\n",
       "      <td>Finans</td>\n",
       "      <td>Burak</td>\n",
       "      <td>300</td>\n",
       "    </tr>\n",
       "    <tr>\n",
       "      <th>4</th>\n",
       "      <td>Hukuk</td>\n",
       "      <td>Zeynep</td>\n",
       "      <td>400</td>\n",
       "    </tr>\n",
       "    <tr>\n",
       "      <th>5</th>\n",
       "      <td>Hukuk</td>\n",
       "      <td>Fatma</td>\n",
       "      <td>500</td>\n",
       "    </tr>\n",
       "  </tbody>\n",
       "</table>\n",
       "</div>"
      ],
      "text/plain": [
       "  Department Employee Name  Salary\n",
       "0   Software         Ahmet     100\n",
       "1   Software        Mehmet     150\n",
       "2     Finans          Atil     200\n",
       "3     Finans         Burak     300\n",
       "4      Hukuk        Zeynep     400\n",
       "5      Hukuk         Fatma     500"
      ]
     },
     "execution_count": 82,
     "metadata": {},
     "output_type": "execute_result"
    }
   ],
   "source": [
    "salaryDf"
   ]
  },
  {
   "cell_type": "code",
   "execution_count": 83,
   "id": "ef4e0568",
   "metadata": {},
   "outputs": [],
   "source": [
    "groupObject = salaryDf.groupby(\"Department\")"
   ]
  },
  {
   "cell_type": "code",
   "execution_count": 84,
   "id": "c127ce3d",
   "metadata": {},
   "outputs": [
    {
     "data": {
      "text/html": [
       "<div>\n",
       "<style scoped>\n",
       "    .dataframe tbody tr th:only-of-type {\n",
       "        vertical-align: middle;\n",
       "    }\n",
       "\n",
       "    .dataframe tbody tr th {\n",
       "        vertical-align: top;\n",
       "    }\n",
       "\n",
       "    .dataframe thead th {\n",
       "        text-align: right;\n",
       "    }\n",
       "</style>\n",
       "<table border=\"1\" class=\"dataframe\">\n",
       "  <thead>\n",
       "    <tr style=\"text-align: right;\">\n",
       "      <th></th>\n",
       "      <th>Employee Name</th>\n",
       "      <th>Salary</th>\n",
       "    </tr>\n",
       "    <tr>\n",
       "      <th>Department</th>\n",
       "      <th></th>\n",
       "      <th></th>\n",
       "    </tr>\n",
       "  </thead>\n",
       "  <tbody>\n",
       "    <tr>\n",
       "      <th>Finans</th>\n",
       "      <td>2</td>\n",
       "      <td>2</td>\n",
       "    </tr>\n",
       "    <tr>\n",
       "      <th>Hukuk</th>\n",
       "      <td>2</td>\n",
       "      <td>2</td>\n",
       "    </tr>\n",
       "    <tr>\n",
       "      <th>Software</th>\n",
       "      <td>2</td>\n",
       "      <td>2</td>\n",
       "    </tr>\n",
       "  </tbody>\n",
       "</table>\n",
       "</div>"
      ],
      "text/plain": [
       "            Employee Name  Salary\n",
       "Department                       \n",
       "Finans                  2       2\n",
       "Hukuk                   2       2\n",
       "Software                2       2"
      ]
     },
     "execution_count": 84,
     "metadata": {},
     "output_type": "execute_result"
    }
   ],
   "source": [
    "groupObject.count()"
   ]
  },
  {
   "cell_type": "code",
   "execution_count": 86,
   "id": "7cb367a1",
   "metadata": {},
   "outputs": [
    {
     "name": "stderr",
     "output_type": "stream",
     "text": [
      "C:\\Users\\msi\\AppData\\Local\\Temp\\ipykernel_5116\\2639455978.py:2: FutureWarning: The default value of numeric_only in DataFrameGroupBy.mean is deprecated. In a future version, numeric_only will default to False. Either specify numeric_only or select only columns which should be valid for the function.\n",
      "  groupObject.mean()\n"
     ]
    },
    {
     "data": {
      "text/html": [
       "<div>\n",
       "<style scoped>\n",
       "    .dataframe tbody tr th:only-of-type {\n",
       "        vertical-align: middle;\n",
       "    }\n",
       "\n",
       "    .dataframe tbody tr th {\n",
       "        vertical-align: top;\n",
       "    }\n",
       "\n",
       "    .dataframe thead th {\n",
       "        text-align: right;\n",
       "    }\n",
       "</style>\n",
       "<table border=\"1\" class=\"dataframe\">\n",
       "  <thead>\n",
       "    <tr style=\"text-align: right;\">\n",
       "      <th></th>\n",
       "      <th>Salary</th>\n",
       "    </tr>\n",
       "    <tr>\n",
       "      <th>Department</th>\n",
       "      <th></th>\n",
       "    </tr>\n",
       "  </thead>\n",
       "  <tbody>\n",
       "    <tr>\n",
       "      <th>Finans</th>\n",
       "      <td>250.0</td>\n",
       "    </tr>\n",
       "    <tr>\n",
       "      <th>Hukuk</th>\n",
       "      <td>450.0</td>\n",
       "    </tr>\n",
       "    <tr>\n",
       "      <th>Software</th>\n",
       "      <td>125.0</td>\n",
       "    </tr>\n",
       "  </tbody>\n",
       "</table>\n",
       "</div>"
      ],
      "text/plain": [
       "            Salary\n",
       "Department        \n",
       "Finans       250.0\n",
       "Hukuk        450.0\n",
       "Software     125.0"
      ]
     },
     "execution_count": 86,
     "metadata": {},
     "output_type": "execute_result"
    }
   ],
   "source": [
    "# Mean of employees which are grouped by their departments\n",
    "groupObject.mean()"
   ]
  },
  {
   "cell_type": "code",
   "execution_count": 88,
   "id": "b1ec45ff",
   "metadata": {},
   "outputs": [
    {
     "data": {
      "text/html": [
       "<div>\n",
       "<style scoped>\n",
       "    .dataframe tbody tr th:only-of-type {\n",
       "        vertical-align: middle;\n",
       "    }\n",
       "\n",
       "    .dataframe tbody tr th {\n",
       "        vertical-align: top;\n",
       "    }\n",
       "\n",
       "    .dataframe thead tr th {\n",
       "        text-align: left;\n",
       "    }\n",
       "\n",
       "    .dataframe thead tr:last-of-type th {\n",
       "        text-align: right;\n",
       "    }\n",
       "</style>\n",
       "<table border=\"1\" class=\"dataframe\">\n",
       "  <thead>\n",
       "    <tr>\n",
       "      <th></th>\n",
       "      <th colspan=\"8\" halign=\"left\">Salary</th>\n",
       "    </tr>\n",
       "    <tr>\n",
       "      <th></th>\n",
       "      <th>count</th>\n",
       "      <th>mean</th>\n",
       "      <th>std</th>\n",
       "      <th>min</th>\n",
       "      <th>25%</th>\n",
       "      <th>50%</th>\n",
       "      <th>75%</th>\n",
       "      <th>max</th>\n",
       "    </tr>\n",
       "    <tr>\n",
       "      <th>Department</th>\n",
       "      <th></th>\n",
       "      <th></th>\n",
       "      <th></th>\n",
       "      <th></th>\n",
       "      <th></th>\n",
       "      <th></th>\n",
       "      <th></th>\n",
       "      <th></th>\n",
       "    </tr>\n",
       "  </thead>\n",
       "  <tbody>\n",
       "    <tr>\n",
       "      <th>Finans</th>\n",
       "      <td>2.0</td>\n",
       "      <td>250.0</td>\n",
       "      <td>70.710678</td>\n",
       "      <td>200.0</td>\n",
       "      <td>225.0</td>\n",
       "      <td>250.0</td>\n",
       "      <td>275.0</td>\n",
       "      <td>300.0</td>\n",
       "    </tr>\n",
       "    <tr>\n",
       "      <th>Hukuk</th>\n",
       "      <td>2.0</td>\n",
       "      <td>450.0</td>\n",
       "      <td>70.710678</td>\n",
       "      <td>400.0</td>\n",
       "      <td>425.0</td>\n",
       "      <td>450.0</td>\n",
       "      <td>475.0</td>\n",
       "      <td>500.0</td>\n",
       "    </tr>\n",
       "    <tr>\n",
       "      <th>Software</th>\n",
       "      <td>2.0</td>\n",
       "      <td>125.0</td>\n",
       "      <td>35.355339</td>\n",
       "      <td>100.0</td>\n",
       "      <td>112.5</td>\n",
       "      <td>125.0</td>\n",
       "      <td>137.5</td>\n",
       "      <td>150.0</td>\n",
       "    </tr>\n",
       "  </tbody>\n",
       "</table>\n",
       "</div>"
      ],
      "text/plain": [
       "           Salary                                                     \n",
       "            count   mean        std    min    25%    50%    75%    max\n",
       "Department                                                            \n",
       "Finans        2.0  250.0  70.710678  200.0  225.0  250.0  275.0  300.0\n",
       "Hukuk         2.0  450.0  70.710678  400.0  425.0  450.0  475.0  500.0\n",
       "Software      2.0  125.0  35.355339  100.0  112.5  125.0  137.5  150.0"
      ]
     },
     "execution_count": 88,
     "metadata": {},
     "output_type": "execute_result"
    }
   ],
   "source": [
    "# All of statistical informations about groups\n",
    "groupObject.describe()"
   ]
  },
  {
   "cell_type": "markdown",
   "id": "f55b530d",
   "metadata": {},
   "source": [
    "## merging"
   ]
  },
  {
   "cell_type": "code",
   "execution_count": 89,
   "id": "61870f33",
   "metadata": {},
   "outputs": [],
   "source": [
    "dict1 = {\"Isim\": [\"Ahmet\", \"Mehmet\", \"Zeynep\", \"Atıl\"],\n",
    "        \"Spor\": [\"Koşu\", \"Yüzme\", \"Koşu\", \"Basketbol\"]\n",
    "        }"
   ]
  },
  {
   "cell_type": "code",
   "execution_count": 90,
   "id": "13ca02e6",
   "metadata": {},
   "outputs": [
    {
     "data": {
      "text/html": [
       "<div>\n",
       "<style scoped>\n",
       "    .dataframe tbody tr th:only-of-type {\n",
       "        vertical-align: middle;\n",
       "    }\n",
       "\n",
       "    .dataframe tbody tr th {\n",
       "        vertical-align: top;\n",
       "    }\n",
       "\n",
       "    .dataframe thead th {\n",
       "        text-align: right;\n",
       "    }\n",
       "</style>\n",
       "<table border=\"1\" class=\"dataframe\">\n",
       "  <thead>\n",
       "    <tr style=\"text-align: right;\">\n",
       "      <th></th>\n",
       "      <th>Isim</th>\n",
       "      <th>Spor</th>\n",
       "    </tr>\n",
       "  </thead>\n",
       "  <tbody>\n",
       "    <tr>\n",
       "      <th>0</th>\n",
       "      <td>Ahmet</td>\n",
       "      <td>Koşu</td>\n",
       "    </tr>\n",
       "    <tr>\n",
       "      <th>1</th>\n",
       "      <td>Mehmet</td>\n",
       "      <td>Yüzme</td>\n",
       "    </tr>\n",
       "    <tr>\n",
       "      <th>2</th>\n",
       "      <td>Zeynep</td>\n",
       "      <td>Koşu</td>\n",
       "    </tr>\n",
       "    <tr>\n",
       "      <th>3</th>\n",
       "      <td>Atıl</td>\n",
       "      <td>Basketbol</td>\n",
       "    </tr>\n",
       "  </tbody>\n",
       "</table>\n",
       "</div>"
      ],
      "text/plain": [
       "     Isim       Spor\n",
       "0   Ahmet       Koşu\n",
       "1  Mehmet      Yüzme\n",
       "2  Zeynep       Koşu\n",
       "3    Atıl  Basketbol"
      ]
     },
     "execution_count": 90,
     "metadata": {},
     "output_type": "execute_result"
    }
   ],
   "source": [
    "df1 = pd.DataFrame(dict1)\n",
    "df1"
   ]
  },
  {
   "cell_type": "code",
   "execution_count": 91,
   "id": "a5bae53b",
   "metadata": {},
   "outputs": [],
   "source": [
    "dict2 = {\"Isim\": [\"Ahmet\", \"Mehmet\", \"Zeynep\", \"Atıl\"],\n",
    "        \"Koşu\": [100,200,300,400]\n",
    "        }"
   ]
  },
  {
   "cell_type": "code",
   "execution_count": 92,
   "id": "5a055a64",
   "metadata": {},
   "outputs": [
    {
     "data": {
      "text/html": [
       "<div>\n",
       "<style scoped>\n",
       "    .dataframe tbody tr th:only-of-type {\n",
       "        vertical-align: middle;\n",
       "    }\n",
       "\n",
       "    .dataframe tbody tr th {\n",
       "        vertical-align: top;\n",
       "    }\n",
       "\n",
       "    .dataframe thead th {\n",
       "        text-align: right;\n",
       "    }\n",
       "</style>\n",
       "<table border=\"1\" class=\"dataframe\">\n",
       "  <thead>\n",
       "    <tr style=\"text-align: right;\">\n",
       "      <th></th>\n",
       "      <th>Isim</th>\n",
       "      <th>Koşu</th>\n",
       "    </tr>\n",
       "  </thead>\n",
       "  <tbody>\n",
       "    <tr>\n",
       "      <th>0</th>\n",
       "      <td>Ahmet</td>\n",
       "      <td>100</td>\n",
       "    </tr>\n",
       "    <tr>\n",
       "      <th>1</th>\n",
       "      <td>Mehmet</td>\n",
       "      <td>200</td>\n",
       "    </tr>\n",
       "    <tr>\n",
       "      <th>2</th>\n",
       "      <td>Zeynep</td>\n",
       "      <td>300</td>\n",
       "    </tr>\n",
       "    <tr>\n",
       "      <th>3</th>\n",
       "      <td>Atıl</td>\n",
       "      <td>400</td>\n",
       "    </tr>\n",
       "  </tbody>\n",
       "</table>\n",
       "</div>"
      ],
      "text/plain": [
       "     Isim  Koşu\n",
       "0   Ahmet   100\n",
       "1  Mehmet   200\n",
       "2  Zeynep   300\n",
       "3    Atıl   400"
      ]
     },
     "execution_count": 92,
     "metadata": {},
     "output_type": "execute_result"
    }
   ],
   "source": [
    "df2 = pd.DataFrame(dict2)\n",
    "df2"
   ]
  },
  {
   "cell_type": "code",
   "execution_count": 95,
   "id": "bf7b2ee5",
   "metadata": {},
   "outputs": [],
   "source": [
    "# on parameter indicates on which column data frames will be merged\n",
    "mergedDf = pd.merge(df1, df2, on=\"Isim\")"
   ]
  },
  {
   "cell_type": "code",
   "execution_count": 96,
   "id": "e88a82e0",
   "metadata": {},
   "outputs": [
    {
     "data": {
      "text/html": [
       "<div>\n",
       "<style scoped>\n",
       "    .dataframe tbody tr th:only-of-type {\n",
       "        vertical-align: middle;\n",
       "    }\n",
       "\n",
       "    .dataframe tbody tr th {\n",
       "        vertical-align: top;\n",
       "    }\n",
       "\n",
       "    .dataframe thead th {\n",
       "        text-align: right;\n",
       "    }\n",
       "</style>\n",
       "<table border=\"1\" class=\"dataframe\">\n",
       "  <thead>\n",
       "    <tr style=\"text-align: right;\">\n",
       "      <th></th>\n",
       "      <th>Isim</th>\n",
       "      <th>Spor</th>\n",
       "      <th>Koşu</th>\n",
       "    </tr>\n",
       "  </thead>\n",
       "  <tbody>\n",
       "    <tr>\n",
       "      <th>0</th>\n",
       "      <td>Ahmet</td>\n",
       "      <td>Koşu</td>\n",
       "      <td>100</td>\n",
       "    </tr>\n",
       "    <tr>\n",
       "      <th>1</th>\n",
       "      <td>Mehmet</td>\n",
       "      <td>Yüzme</td>\n",
       "      <td>200</td>\n",
       "    </tr>\n",
       "    <tr>\n",
       "      <th>2</th>\n",
       "      <td>Zeynep</td>\n",
       "      <td>Koşu</td>\n",
       "      <td>300</td>\n",
       "    </tr>\n",
       "    <tr>\n",
       "      <th>3</th>\n",
       "      <td>Atıl</td>\n",
       "      <td>Basketbol</td>\n",
       "      <td>400</td>\n",
       "    </tr>\n",
       "  </tbody>\n",
       "</table>\n",
       "</div>"
      ],
      "text/plain": [
       "     Isim       Spor  Koşu\n",
       "0   Ahmet       Koşu   100\n",
       "1  Mehmet      Yüzme   200\n",
       "2  Zeynep       Koşu   300\n",
       "3    Atıl  Basketbol   400"
      ]
     },
     "execution_count": 96,
     "metadata": {},
     "output_type": "execute_result"
    }
   ],
   "source": [
    "mergedDf"
   ]
  },
  {
   "cell_type": "code",
   "execution_count": 98,
   "id": "e69688fe",
   "metadata": {},
   "outputs": [
    {
     "data": {
      "text/plain": [
       "array(['Koşu', 'Yüzme', 'Basketbol'], dtype=object)"
      ]
     },
     "execution_count": 98,
     "metadata": {},
     "output_type": "execute_result"
    }
   ],
   "source": [
    "mergedDf[\"Spor\"].unique()"
   ]
  },
  {
   "cell_type": "code",
   "execution_count": 99,
   "id": "59f4a5ad",
   "metadata": {},
   "outputs": [
    {
     "data": {
      "text/plain": [
       "3"
      ]
     },
     "execution_count": 99,
     "metadata": {},
     "output_type": "execute_result"
    }
   ],
   "source": [
    "mergedDf[\"Spor\"].nunique()"
   ]
  },
  {
   "cell_type": "code",
   "execution_count": 100,
   "id": "4ee6baa3",
   "metadata": {},
   "outputs": [
    {
     "data": {
      "text/plain": [
       "Koşu         2\n",
       "Yüzme        1\n",
       "Basketbol    1\n",
       "Name: Spor, dtype: int64"
      ]
     },
     "execution_count": 100,
     "metadata": {},
     "output_type": "execute_result"
    }
   ],
   "source": [
    "mergedDf[\"Spor\"].value_counts()"
   ]
  },
  {
   "cell_type": "code",
   "execution_count": 101,
   "id": "a58656f7",
   "metadata": {},
   "outputs": [],
   "source": [
    "def nabizHesapla(kosu):\n",
    "    return kosu * 0.4"
   ]
  },
  {
   "cell_type": "code",
   "execution_count": 102,
   "id": "4aa742af",
   "metadata": {},
   "outputs": [
    {
     "data": {
      "text/plain": [
       "0     40.0\n",
       "1     80.0\n",
       "2    120.0\n",
       "3    160.0\n",
       "Name: Koşu, dtype: float64"
      ]
     },
     "execution_count": 102,
     "metadata": {},
     "output_type": "execute_result"
    }
   ],
   "source": [
    "# We can give all rows as parameter in a function\n",
    "mergedDf[\"Koşu\"].apply(nabizHesapla)"
   ]
  }
 ],
 "metadata": {
  "kernelspec": {
   "display_name": "Python 3 (ipykernel)",
   "language": "python",
   "name": "python3"
  },
  "language_info": {
   "codemirror_mode": {
    "name": "ipython",
    "version": 3
   },
   "file_extension": ".py",
   "mimetype": "text/x-python",
   "name": "python",
   "nbconvert_exporter": "python",
   "pygments_lexer": "ipython3",
   "version": "3.10.9"
  }
 },
 "nbformat": 4,
 "nbformat_minor": 5
}
