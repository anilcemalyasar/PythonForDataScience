{
 "cells": [
  {
   "cell_type": "code",
   "execution_count": 1,
   "id": "434f7af5",
   "metadata": {},
   "outputs": [],
   "source": [
    "import numpy as np"
   ]
  },
  {
   "cell_type": "markdown",
   "id": "c08f25c9",
   "metadata": {},
   "source": [
    "## numpy arrays"
   ]
  },
  {
   "cell_type": "code",
   "execution_count": 2,
   "id": "8ed86034",
   "metadata": {},
   "outputs": [],
   "source": [
    "myList = [20,30,40]"
   ]
  },
  {
   "cell_type": "code",
   "execution_count": 3,
   "id": "dcbee68e",
   "metadata": {},
   "outputs": [
    {
     "data": {
      "text/plain": [
       "list"
      ]
     },
     "execution_count": 3,
     "metadata": {},
     "output_type": "execute_result"
    }
   ],
   "source": [
    "type(myList)"
   ]
  },
  {
   "cell_type": "code",
   "execution_count": 4,
   "id": "09877798",
   "metadata": {},
   "outputs": [
    {
     "data": {
      "text/plain": [
       "array([20, 30, 40])"
      ]
     },
     "execution_count": 4,
     "metadata": {},
     "output_type": "execute_result"
    }
   ],
   "source": [
    "np.array(myList)"
   ]
  },
  {
   "cell_type": "code",
   "execution_count": 5,
   "id": "a5b347b8",
   "metadata": {},
   "outputs": [
    {
     "data": {
      "text/plain": [
       "1"
      ]
     },
     "execution_count": 5,
     "metadata": {},
     "output_type": "execute_result"
    }
   ],
   "source": [
    "# One dimensional array\n",
    "np.ndim(np.array(myList))"
   ]
  },
  {
   "cell_type": "code",
   "execution_count": 6,
   "id": "ad3440b7",
   "metadata": {},
   "outputs": [],
   "source": [
    "matrixList = [[10,20,30],[40,50,60],[70,80,90]]"
   ]
  },
  {
   "cell_type": "code",
   "execution_count": 7,
   "id": "d0ad803a",
   "metadata": {},
   "outputs": [
    {
     "data": {
      "text/plain": [
       "array([[10, 20, 30],\n",
       "       [40, 50, 60],\n",
       "       [70, 80, 90]])"
      ]
     },
     "execution_count": 7,
     "metadata": {},
     "output_type": "execute_result"
    }
   ],
   "source": [
    "np.array(matrixList)"
   ]
  },
  {
   "cell_type": "code",
   "execution_count": 8,
   "id": "683327a7",
   "metadata": {},
   "outputs": [
    {
     "data": {
      "text/plain": [
       "2"
      ]
     },
     "execution_count": 8,
     "metadata": {},
     "output_type": "execute_result"
    }
   ],
   "source": [
    "# 2 dimensional array (Matrix)\n",
    "np.ndim(np.array(matrixList))"
   ]
  },
  {
   "cell_type": "markdown",
   "id": "caf303c3",
   "metadata": {},
   "source": [
    "## numpy arange"
   ]
  },
  {
   "cell_type": "code",
   "execution_count": 10,
   "id": "46113cb2",
   "metadata": {},
   "outputs": [
    {
     "data": {
      "text/plain": [
       "array([0, 1, 2, 3, 4, 5, 6, 7, 8, 9])"
      ]
     },
     "execution_count": 10,
     "metadata": {},
     "output_type": "execute_result"
    }
   ],
   "source": [
    "myArr = np.arange(0,10)\n",
    "myArr"
   ]
  },
  {
   "cell_type": "code",
   "execution_count": 11,
   "id": "4887fc6e",
   "metadata": {},
   "outputs": [
    {
     "data": {
      "text/plain": [
       "(10,)"
      ]
     },
     "execution_count": 11,
     "metadata": {},
     "output_type": "execute_result"
    }
   ],
   "source": [
    "myArr.shape"
   ]
  },
  {
   "cell_type": "code",
   "execution_count": 12,
   "id": "85320c31",
   "metadata": {},
   "outputs": [
    {
     "data": {
      "text/plain": [
       "array([[0, 1],\n",
       "       [2, 3],\n",
       "       [4, 5],\n",
       "       [6, 7],\n",
       "       [8, 9]])"
      ]
     },
     "execution_count": 12,
     "metadata": {},
     "output_type": "execute_result"
    }
   ],
   "source": [
    "# Reshape dimension of array\n",
    "myArr.reshape(5,2)"
   ]
  },
  {
   "cell_type": "code",
   "execution_count": 13,
   "id": "9a1ad521",
   "metadata": {},
   "outputs": [
    {
     "data": {
      "text/plain": [
       "array([ 0,  2,  4,  6,  8, 10, 12, 14, 16, 18])"
      ]
     },
     "execution_count": 13,
     "metadata": {},
     "output_type": "execute_result"
    }
   ],
   "source": [
    "# Step size can be given\n",
    "np.arange(0,20,2)"
   ]
  },
  {
   "cell_type": "markdown",
   "id": "2ce2b5dc",
   "metadata": {},
   "source": [
    "## numpy zeros"
   ]
  },
  {
   "cell_type": "code",
   "execution_count": 14,
   "id": "c4b8a798",
   "metadata": {},
   "outputs": [
    {
     "data": {
      "text/plain": [
       "array([0., 0., 0., 0., 0.])"
      ]
     },
     "execution_count": 14,
     "metadata": {},
     "output_type": "execute_result"
    }
   ],
   "source": [
    "# zero array\n",
    "np.zeros(5)"
   ]
  },
  {
   "cell_type": "code",
   "execution_count": 17,
   "id": "0ace4566",
   "metadata": {},
   "outputs": [
    {
     "data": {
      "text/plain": [
       "array([[0., 0., 0., 0., 0.],\n",
       "       [0., 0., 0., 0., 0.],\n",
       "       [0., 0., 0., 0., 0.],\n",
       "       [0., 0., 0., 0., 0.],\n",
       "       [0., 0., 0., 0., 0.]])"
      ]
     },
     "execution_count": 17,
     "metadata": {},
     "output_type": "execute_result"
    }
   ],
   "source": [
    "# zero matrix\n",
    "np.zeros((5,5))"
   ]
  },
  {
   "cell_type": "markdown",
   "id": "91d930a0",
   "metadata": {},
   "source": [
    "## numpy linspace"
   ]
  },
  {
   "cell_type": "code",
   "execution_count": 22,
   "id": "f0247fd6",
   "metadata": {},
   "outputs": [
    {
     "data": {
      "text/plain": [
       "array([ 0.        ,  0.52631579,  1.05263158,  1.57894737,  2.10526316,\n",
       "        2.63157895,  3.15789474,  3.68421053,  4.21052632,  4.73684211,\n",
       "        5.26315789,  5.78947368,  6.31578947,  6.84210526,  7.36842105,\n",
       "        7.89473684,  8.42105263,  8.94736842,  9.47368421, 10.        ])"
      ]
     },
     "execution_count": 22,
     "metadata": {},
     "output_type": "execute_result"
    }
   ],
   "source": [
    "# evenly linspace (eşit aralıklı)\n",
    "arr = np.linspace(0,10,20)\n",
    "arr"
   ]
  },
  {
   "cell_type": "markdown",
   "id": "dce8c805",
   "metadata": {},
   "source": [
    "## numpy eye (identity matrix)"
   ]
  },
  {
   "cell_type": "code",
   "execution_count": 24,
   "id": "7e1f64bd",
   "metadata": {},
   "outputs": [
    {
     "data": {
      "text/plain": [
       "array([[1., 0., 0., 0., 0., 0., 0., 0., 0., 0.],\n",
       "       [0., 1., 0., 0., 0., 0., 0., 0., 0., 0.],\n",
       "       [0., 0., 1., 0., 0., 0., 0., 0., 0., 0.],\n",
       "       [0., 0., 0., 1., 0., 0., 0., 0., 0., 0.],\n",
       "       [0., 0., 0., 0., 1., 0., 0., 0., 0., 0.],\n",
       "       [0., 0., 0., 0., 0., 1., 0., 0., 0., 0.],\n",
       "       [0., 0., 0., 0., 0., 0., 1., 0., 0., 0.],\n",
       "       [0., 0., 0., 0., 0., 0., 0., 1., 0., 0.],\n",
       "       [0., 0., 0., 0., 0., 0., 0., 0., 1., 0.],\n",
       "       [0., 0., 0., 0., 0., 0., 0., 0., 0., 1.]])"
      ]
     },
     "execution_count": 24,
     "metadata": {},
     "output_type": "execute_result"
    }
   ],
   "source": [
    "# for gauss jordan elimination can be used\n",
    "np.eye(10)"
   ]
  },
  {
   "cell_type": "markdown",
   "id": "8e259f1f",
   "metadata": {},
   "source": [
    "## numpy random"
   ]
  },
  {
   "cell_type": "code",
   "execution_count": 26,
   "id": "b18e5159",
   "metadata": {},
   "outputs": [
    {
     "data": {
      "text/plain": [
       "array([ 0.51208682, -0.42463834,  2.90848865, -0.08516788])"
      ]
     },
     "execution_count": 26,
     "metadata": {},
     "output_type": "execute_result"
    }
   ],
   "source": [
    "# randn standart normal distribution\n",
    "np.random.randn(4)"
   ]
  },
  {
   "cell_type": "code",
   "execution_count": 27,
   "id": "065fef12",
   "metadata": {},
   "outputs": [
    {
     "data": {
      "text/plain": [
       "array([[ 1.27044181,  0.13841384, -1.04445427,  1.22874722],\n",
       "       [-0.52582101, -0.62411091,  0.19131086,  2.10304009],\n",
       "       [-1.03720413,  1.73815862,  0.73013853, -0.57804256],\n",
       "       [-0.57782214,  0.25630401,  1.11564089, -0.67521545]])"
      ]
     },
     "execution_count": 27,
     "metadata": {},
     "output_type": "execute_result"
    }
   ],
   "source": [
    "# as a matrix\n",
    "np.random.randn(4,4)"
   ]
  },
  {
   "cell_type": "code",
   "execution_count": 37,
   "id": "c37da4e1",
   "metadata": {},
   "outputs": [
    {
     "data": {
      "text/plain": [
       "58"
      ]
     },
     "execution_count": 37,
     "metadata": {},
     "output_type": "execute_result"
    }
   ],
   "source": [
    "# a random integer, starting point inclusive, end point exclusive\n",
    "np.random.randint(1,100)"
   ]
  },
  {
   "cell_type": "code",
   "execution_count": 38,
   "id": "d87d1f90",
   "metadata": {},
   "outputs": [
    {
     "data": {
      "text/plain": [
       "array([162, 260, 219, 139,   2])"
      ]
     },
     "execution_count": 38,
     "metadata": {},
     "output_type": "execute_result"
    }
   ],
   "source": [
    "np.random.randint(1,300,5)"
   ]
  },
  {
   "cell_type": "code",
   "execution_count": 41,
   "id": "43c27421",
   "metadata": {},
   "outputs": [
    {
     "data": {
      "text/plain": [
       "array([[42, 38, 10,  1],\n",
       "       [89,  3, 39, 57],\n",
       "       [72, 88, 33, 27],\n",
       "       [32, 76, 23, 87],\n",
       "       [44,  8,  3, 95]])"
      ]
     },
     "execution_count": 41,
     "metadata": {},
     "output_type": "execute_result"
    }
   ],
   "source": [
    "randomArr = np.random.randint(1,100,20).reshape(5,4)\n",
    "randomArr"
   ]
  },
  {
   "cell_type": "markdown",
   "id": "8a2e66af",
   "metadata": {},
   "source": [
    "## numpy array methods"
   ]
  },
  {
   "cell_type": "code",
   "execution_count": 7,
   "id": "2c580390",
   "metadata": {},
   "outputs": [
    {
     "data": {
      "text/plain": [
       "array([[ 0,  1,  2,  3,  4,  5,  6,  7,  8,  9, 10, 11, 12, 13, 14, 15,\n",
       "        16, 17, 18, 19],\n",
       "       [20, 21, 22, 23, 24, 25, 26, 27, 28, 29, 30, 31, 32, 33, 34, 35,\n",
       "        36, 37, 38, 39],\n",
       "       [40, 41, 42, 43, 44, 45, 46, 47, 48, 49, 50, 51, 52, 53, 54, 55,\n",
       "        56, 57, 58, 59],\n",
       "       [60, 61, 62, 63, 64, 65, 66, 67, 68, 69, 70, 71, 72, 73, 74, 75,\n",
       "        76, 77, 78, 79],\n",
       "       [80, 81, 82, 83, 84, 85, 86, 87, 88, 89, 90, 91, 92, 93, 94, 95,\n",
       "        96, 97, 98, 99]])"
      ]
     },
     "execution_count": 7,
     "metadata": {},
     "output_type": "execute_result"
    }
   ],
   "source": [
    "myArr = np.arange(0,100).reshape(5,20)\n",
    "myArr"
   ]
  },
  {
   "cell_type": "code",
   "execution_count": 3,
   "id": "5a699900",
   "metadata": {},
   "outputs": [
    {
     "data": {
      "text/plain": [
       "99"
      ]
     },
     "execution_count": 3,
     "metadata": {},
     "output_type": "execute_result"
    }
   ],
   "source": [
    "myArr.max()"
   ]
  },
  {
   "cell_type": "code",
   "execution_count": 4,
   "id": "f68c8766",
   "metadata": {},
   "outputs": [
    {
     "data": {
      "text/plain": [
       "0"
      ]
     },
     "execution_count": 4,
     "metadata": {},
     "output_type": "execute_result"
    }
   ],
   "source": [
    "myArr.min()"
   ]
  },
  {
   "cell_type": "code",
   "execution_count": 5,
   "id": "53d988e9",
   "metadata": {},
   "outputs": [
    {
     "data": {
      "text/plain": [
       "99"
      ]
     },
     "execution_count": 5,
     "metadata": {},
     "output_type": "execute_result"
    }
   ],
   "source": [
    "myArr.argmax()"
   ]
  },
  {
   "cell_type": "code",
   "execution_count": 8,
   "id": "77555216",
   "metadata": {},
   "outputs": [
    {
     "data": {
      "text/plain": [
       "(5, 20)"
      ]
     },
     "execution_count": 8,
     "metadata": {},
     "output_type": "execute_result"
    }
   ],
   "source": [
    "# Shape of matrix (Row x Column) \n",
    "myArr.shape"
   ]
  },
  {
   "cell_type": "code",
   "execution_count": 11,
   "id": "2ae3deac",
   "metadata": {},
   "outputs": [
    {
     "data": {
      "text/plain": [
       "array([ 0,  1,  2,  3,  4,  5,  6,  7,  8,  9, 10, 11, 12, 13, 14])"
      ]
     },
     "execution_count": 11,
     "metadata": {},
     "output_type": "execute_result"
    }
   ],
   "source": [
    "newArr = np.arange(0,15)\n",
    "newArr"
   ]
  },
  {
   "cell_type": "code",
   "execution_count": 10,
   "id": "aab31622",
   "metadata": {},
   "outputs": [
    {
     "data": {
      "text/plain": [
       "5"
      ]
     },
     "execution_count": 10,
     "metadata": {},
     "output_type": "execute_result"
    }
   ],
   "source": [
    "newArr[5]"
   ]
  },
  {
   "cell_type": "code",
   "execution_count": 13,
   "id": "7756125e",
   "metadata": {},
   "outputs": [
    {
     "data": {
      "text/plain": [
       "array([3, 4, 5, 6, 7])"
      ]
     },
     "execution_count": 13,
     "metadata": {},
     "output_type": "execute_result"
    }
   ],
   "source": [
    "# Slicing \n",
    "newArr[3:8]"
   ]
  },
  {
   "cell_type": "code",
   "execution_count": 14,
   "id": "0ae94545",
   "metadata": {},
   "outputs": [
    {
     "data": {
      "text/plain": [
       "array([ 0,  1,  2,  5,  5,  5,  5,  5,  8,  9, 10, 11, 12, 13, 14])"
      ]
     },
     "execution_count": 14,
     "metadata": {},
     "output_type": "execute_result"
    }
   ],
   "source": [
    "# Changing elements of array with slicing\n",
    "newArr[3:8] = 5\n",
    "newArr"
   ]
  },
  {
   "cell_type": "code",
   "execution_count": 19,
   "id": "0297a310",
   "metadata": {},
   "outputs": [
    {
     "data": {
      "text/plain": [
       "array([ 0,  1,  2,  5,  5,  5,  5,  5,  8,  9, 10, 11, 12, 13, 14])"
      ]
     },
     "execution_count": 19,
     "metadata": {},
     "output_type": "execute_result"
    }
   ],
   "source": [
    "# Changes in copied array will have no effect on actual array\n",
    "newArr_copy = newArr.copy()\n",
    "newArr_copy"
   ]
  },
  {
   "cell_type": "code",
   "execution_count": 20,
   "id": "08dfba07",
   "metadata": {},
   "outputs": [],
   "source": [
    "newArr_copy[:] = 700"
   ]
  },
  {
   "cell_type": "code",
   "execution_count": 21,
   "id": "458f0ff6",
   "metadata": {},
   "outputs": [
    {
     "data": {
      "text/plain": [
       "array([700, 700, 700, 700, 700, 700, 700, 700, 700, 700, 700, 700, 700,\n",
       "       700, 700])"
      ]
     },
     "execution_count": 21,
     "metadata": {},
     "output_type": "execute_result"
    }
   ],
   "source": [
    "newArr_copy"
   ]
  },
  {
   "cell_type": "markdown",
   "id": "dd9786db",
   "metadata": {},
   "source": [
    "## matrix"
   ]
  },
  {
   "cell_type": "code",
   "execution_count": 22,
   "id": "e40952a6",
   "metadata": {},
   "outputs": [],
   "source": [
    "matrixList = [[10,20,30],[40,50,60],[70,80,90]]"
   ]
  },
  {
   "cell_type": "code",
   "execution_count": 27,
   "id": "14a82c0f",
   "metadata": {},
   "outputs": [],
   "source": [
    "matrix = np.array(matrixList)"
   ]
  },
  {
   "cell_type": "code",
   "execution_count": 28,
   "id": "81a33382",
   "metadata": {},
   "outputs": [
    {
     "data": {
      "text/plain": [
       "array([[10, 20, 30],\n",
       "       [40, 50, 60],\n",
       "       [70, 80, 90]])"
      ]
     },
     "execution_count": 28,
     "metadata": {},
     "output_type": "execute_result"
    }
   ],
   "source": [
    "matrix"
   ]
  },
  {
   "cell_type": "code",
   "execution_count": 31,
   "id": "75e2398f",
   "metadata": {},
   "outputs": [
    {
     "data": {
      "text/plain": [
       "60"
      ]
     },
     "execution_count": 31,
     "metadata": {},
     "output_type": "execute_result"
    }
   ],
   "source": [
    "matrix[1][2]"
   ]
  },
  {
   "cell_type": "code",
   "execution_count": 32,
   "id": "cb98a28f",
   "metadata": {},
   "outputs": [
    {
     "data": {
      "text/plain": [
       "60"
      ]
     },
     "execution_count": 32,
     "metadata": {},
     "output_type": "execute_result"
    }
   ],
   "source": [
    "matrix[1,2]"
   ]
  },
  {
   "cell_type": "code",
   "execution_count": 35,
   "id": "e35dc27d",
   "metadata": {},
   "outputs": [
    {
     "data": {
      "text/plain": [
       "array([[40, 50],\n",
       "       [70, 80]])"
      ]
     },
     "execution_count": 35,
     "metadata": {},
     "output_type": "execute_result"
    }
   ],
   "source": [
    "matrix[1:, :2]"
   ]
  },
  {
   "cell_type": "code",
   "execution_count": 37,
   "id": "04d00a7f",
   "metadata": {},
   "outputs": [
    {
     "data": {
      "text/plain": [
       "array([[20, 30],\n",
       "       [50, 60]])"
      ]
     },
     "execution_count": 37,
     "metadata": {},
     "output_type": "execute_result"
    }
   ],
   "source": [
    "matrix[:2, 1:]"
   ]
  },
  {
   "cell_type": "markdown",
   "id": "951e92f5",
   "metadata": {},
   "source": [
    "## matrix operations"
   ]
  },
  {
   "cell_type": "code",
   "execution_count": 40,
   "id": "7e85a4d0",
   "metadata": {},
   "outputs": [],
   "source": [
    "arr = np.random.randint(1,100,20)"
   ]
  },
  {
   "cell_type": "code",
   "execution_count": 41,
   "id": "c7e579f3",
   "metadata": {
    "scrolled": true
   },
   "outputs": [
    {
     "data": {
      "text/plain": [
       "array([50, 43, 70, 32, 46, 64, 64, 53,  9, 99, 92, 49, 65, 68, 81, 46, 14,\n",
       "        8, 30, 54])"
      ]
     },
     "execution_count": 41,
     "metadata": {},
     "output_type": "execute_result"
    }
   ],
   "source": [
    "arr"
   ]
  },
  {
   "cell_type": "code",
   "execution_count": 44,
   "id": "6a2b2fa2",
   "metadata": {},
   "outputs": [
    {
     "data": {
      "text/plain": [
       "array([ True,  True,  True,  True,  True,  True,  True,  True, False,\n",
       "        True,  True,  True,  True,  True,  True,  True, False, False,\n",
       "        True,  True])"
      ]
     },
     "execution_count": 44,
     "metadata": {},
     "output_type": "execute_result"
    }
   ],
   "source": [
    "arr > 24"
   ]
  },
  {
   "cell_type": "code",
   "execution_count": 43,
   "id": "c026405a",
   "metadata": {},
   "outputs": [
    {
     "data": {
      "text/plain": [
       "array([50, 43, 70, 32, 46, 64, 64, 53, 99, 92, 49, 65, 68, 81, 46, 30, 54])"
      ]
     },
     "execution_count": 43,
     "metadata": {},
     "output_type": "execute_result"
    }
   ],
   "source": [
    "# We can filter elements of matrices with conditions given in parantheses\n",
    "arr[arr>24]"
   ]
  },
  {
   "cell_type": "code",
   "execution_count": 45,
   "id": "e900fe20",
   "metadata": {},
   "outputs": [
    {
     "data": {
      "text/plain": [
       "array([7.07106781, 6.55743852, 8.36660027, 5.65685425, 6.78232998,\n",
       "       8.        , 8.        , 7.28010989, 3.        , 9.94987437,\n",
       "       9.59166305, 7.        , 8.06225775, 8.24621125, 9.        ,\n",
       "       6.78232998, 3.74165739, 2.82842712, 5.47722558, 7.34846923])"
      ]
     },
     "execution_count": 45,
     "metadata": {},
     "output_type": "execute_result"
    }
   ],
   "source": [
    "np.sqrt(arr)"
   ]
  }
 ],
 "metadata": {
  "kernelspec": {
   "display_name": "Python 3 (ipykernel)",
   "language": "python",
   "name": "python3"
  },
  "language_info": {
   "codemirror_mode": {
    "name": "ipython",
    "version": 3
   },
   "file_extension": ".py",
   "mimetype": "text/x-python",
   "name": "python",
   "nbconvert_exporter": "python",
   "pygments_lexer": "ipython3",
   "version": "3.10.9"
  }
 },
 "nbformat": 4,
 "nbformat_minor": 5
}
